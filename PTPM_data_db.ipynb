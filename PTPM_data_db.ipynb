{
 "cells": [
  {
   "cell_type": "code",
   "execution_count": null,
   "metadata": {},
   "outputs": [
    {
     "data": {
      "text/html": [
       "<div>\n",
       "<style scoped>\n",
       "    .dataframe tbody tr th:only-of-type {\n",
       "        vertical-align: middle;\n",
       "    }\n",
       "\n",
       "    .dataframe tbody tr th {\n",
       "        vertical-align: top;\n",
       "    }\n",
       "\n",
       "    .dataframe thead th {\n",
       "        text-align: right;\n",
       "    }\n",
       "</style>\n",
       "<table border=\"1\" class=\"dataframe\">\n",
       "  <thead>\n",
       "    <tr style=\"text-align: right;\">\n",
       "      <th></th>\n",
       "      <th>id</th>\n",
       "      <th>request_json</th>\n",
       "    </tr>\n",
       "  </thead>\n",
       "  <tbody>\n",
       "    <tr>\n",
       "      <th>36</th>\n",
       "      <td>2</td>\n",
       "      <td>{\"adult\": false, \"backdrop_path\": \"/hQ4pYsIbP2...</td>\n",
       "    </tr>\n",
       "    <tr>\n",
       "      <th>0</th>\n",
       "      <td>3</td>\n",
       "      <td>{\"adult\": false, \"backdrop_path\": \"/l94l89eMmF...</td>\n",
       "    </tr>\n",
       "    <tr>\n",
       "      <th>1</th>\n",
       "      <td>5</td>\n",
       "      <td>{\"adult\": false, \"backdrop_path\": \"/f2t4JbUvQI...</td>\n",
       "    </tr>\n",
       "    <tr>\n",
       "      <th>2</th>\n",
       "      <td>6</td>\n",
       "      <td>{\"adult\": false, \"backdrop_path\": \"/iUUpKunmBN...</td>\n",
       "    </tr>\n",
       "    <tr>\n",
       "      <th>3</th>\n",
       "      <td>11</td>\n",
       "      <td>{\"adult\": false, \"backdrop_path\": \"/2w4xG178Rp...</td>\n",
       "    </tr>\n",
       "    <tr>\n",
       "      <th>...</th>\n",
       "      <td>...</td>\n",
       "      <td>...</td>\n",
       "    </tr>\n",
       "    <tr>\n",
       "      <th>70395</th>\n",
       "      <td>1144338</td>\n",
       "      <td>{\"adult\": false, \"backdrop_path\": null, \"belon...</td>\n",
       "    </tr>\n",
       "    <tr>\n",
       "      <th>86407</th>\n",
       "      <td>1145358</td>\n",
       "      <td>{\"adult\": false, \"backdrop_path\": \"/4OIJmgez12...</td>\n",
       "    </tr>\n",
       "    <tr>\n",
       "      <th>86408</th>\n",
       "      <td>1146246</td>\n",
       "      <td>{\"adult\": false, \"backdrop_path\": \"/t86SkVd35W...</td>\n",
       "    </tr>\n",
       "    <tr>\n",
       "      <th>86409</th>\n",
       "      <td>1146249</td>\n",
       "      <td>{\"adult\": false, \"backdrop_path\": \"/eNopYAzvtf...</td>\n",
       "    </tr>\n",
       "    <tr>\n",
       "      <th>86410</th>\n",
       "      <td>1147612</td>\n",
       "      <td>{\"adult\": false, \"backdrop_path\": \"/iL94PPTROS...</td>\n",
       "    </tr>\n",
       "  </tbody>\n",
       "</table>\n",
       "<p>86411 rows × 2 columns</p>\n",
       "</div>"
      ],
      "text/plain": [
       "            id                                       request_json\n",
       "36           2  {\"adult\": false, \"backdrop_path\": \"/hQ4pYsIbP2...\n",
       "0            3  {\"adult\": false, \"backdrop_path\": \"/l94l89eMmF...\n",
       "1            5  {\"adult\": false, \"backdrop_path\": \"/f2t4JbUvQI...\n",
       "2            6  {\"adult\": false, \"backdrop_path\": \"/iUUpKunmBN...\n",
       "3           11  {\"adult\": false, \"backdrop_path\": \"/2w4xG178Rp...\n",
       "...        ...                                                ...\n",
       "70395  1144338  {\"adult\": false, \"backdrop_path\": null, \"belon...\n",
       "86407  1145358  {\"adult\": false, \"backdrop_path\": \"/4OIJmgez12...\n",
       "86408  1146246  {\"adult\": false, \"backdrop_path\": \"/t86SkVd35W...\n",
       "86409  1146249  {\"adult\": false, \"backdrop_path\": \"/eNopYAzvtf...\n",
       "86410  1147612  {\"adult\": false, \"backdrop_path\": \"/iL94PPTROS...\n",
       "\n",
       "[86411 rows x 2 columns]"
      ]
     },
     "execution_count": 1,
     "metadata": {},
     "output_type": "execute_result"
    }
   ],
   "source": [
    "import dask.dataframe as dd\n",
    "import pandas as pd\n",
    "import numpy as np\n",
    "import os\n",
    "from datetime import datetime, timedelta\n",
    "import time\n",
    "import json\n",
    "from tqdm import tqdm\n",
    "import requests\n",
    "import warnings\n",
    "warnings.filterwarnings('ignore') # turn off warnings\n",
    "\n",
    "import psycopg2\n",
    "\n",
    "connUAT = psycopg2.connect(\n",
    "     host='localhost',\n",
    "     database='uat',\n",
    "     port=5431,\n",
    "     user='postgres',\n",
    "     password='1234567890'\n",
    "  )\n",
    "\n",
    "connPROC = psycopg2.connect(\n",
    "     host='localhost',\n",
    "     database='prod',\n",
    "     port=5431,\n",
    "     user='postgres',\n",
    "     password='1234567890'\n",
    "  )\n",
    "\n",
    "cursorUAT = connUAT.cursor()\n",
    "cursorPROC = connPROC.cursor()\n",
    "\n",
    "def selectdf(query,conn):\n",
    "    df = pd.read_sql(query, conn)\n",
    "    return df\n",
    "  \n",
    "def SQL_push(sql_table_name,python_table,con,cursor,inplace):\n",
    "    python_table.replace([np.nan], [None],inplace=True)\n",
    "    \n",
    "    if inplace == True:\n",
    "        try:\n",
    "            sql_query = f'truncate table {sql_table_name}'\n",
    "            cursorUAT.execute(sql_query)\n",
    "            connUAT.commit()\n",
    "        except:\n",
    "            pass\n",
    "            \n",
    "    sql = f\"INSERT INTO {sql_table_name} VALUES ({','.join(['%s'] * len(python_table.columns))})\"\n",
    "\n",
    "    data = [tuple(row) for _, row in tqdm(python_table.iterrows(), total=len(python_table), desc=\"Preparing data\")]\n",
    "\n",
    "    # Chèn dữ liệu với xử lý lỗi\n",
    "    for row in tqdm(data, total=len(data), desc=\"Inserting rows\"):\n",
    "        try:\n",
    "            cursor.execute(sql, row)\n",
    "        except Exception as e:\n",
    "            print(f\"Lỗi khi chèn dòng {row}: {e}\")\n",
    "            con.rollback()  # Hủy giao dịch khi có lỗi, tránh PostgreSQL khóa transaction\n",
    "\n",
    "    # Sau khi xong thì commit lại\n",
    "    connUAT.commit()\n",
    "    print(\"PUSH DATA: DONE\")\n",
    "\n",
    "pathfolder = r'F:\\Work\\Caohoc_2024_2026\\PTPM_project\\ml-latest'\n",
    "\n",
    "sql_check = '''\n",
    "            select * from staging.stg_tbdm_movies_json\n",
    "            '''\n",
    "sql_json = selectdf(sql_check,connUAT)\n",
    "# list_c['id'] = list_c['id'].astype(str)  # Đảm bảo cùng kiểu dữ liệu\n",
    "sql_json.sort_values(by='id',inplace=True)\n",
    "sql_json"
   ]
  },
  {
   "cell_type": "code",
   "execution_count": 2,
   "metadata": {},
   "outputs": [],
   "source": [
    "fall_m = sql_json[sql_json['request_json']=='{\"success\": false, \"status_code\": 34, \"status_message\": \"The resource you requested could not be found.\"}']"
   ]
  },
  {
   "cell_type": "markdown",
   "metadata": {},
   "source": [
    "### sử dụng:\n",
    "- belongs_to_collection: dùng id để lọc những film liên quan lẫn nhau\n",
    "- Dữ liệu có 126 movieid ko có mã tbdmid\n",
    "- 1071 movieid có mã tbdmid những ko có dữ liệu trên server \n",
    "    - code: tbdm movies_info[movies_info['tmdbId'].isin(list(fall_m['id']))]\n"
   ]
  },
  {
   "cell_type": "code",
   "execution_count": 3,
   "metadata": {},
   "outputs": [],
   "source": [
    "tmdb_data = json.loads(sql_json[sql_json['id']==11]['request_json'].values[0])\n",
    "# tmdb_df = pd.DataFrame(tmdb_data)\n",
    "# tmdb_data"
   ]
  },
  {
   "cell_type": "code",
   "execution_count": 4,
   "metadata": {},
   "outputs": [],
   "source": [
    "tmdb_data = json.loads(sql_json[sql_json['id']==1891]['request_json'].values[0])\n",
    "# tmdb_df = pd.DataFrame(tmdb_data)\n",
    "# tmdb_data"
   ]
  },
  {
   "cell_type": "code",
   "execution_count": 5,
   "metadata": {},
   "outputs": [],
   "source": [
    "# [tmdb_data['production_countries'][0]['name'],tmdb_data['spoken_languages'][0]['english_name']\n",
    "#  ,tmdb_data['production_companies'][0]['name']\n",
    "#  ,tmdb_data['overview'],tmdb_data['status'],tmdb_data['release_date']\n",
    "# ]"
   ]
  },
  {
   "cell_type": "code",
   "execution_count": 6,
   "metadata": {},
   "outputs": [],
   "source": [
    "# movies_links[movies_links['tmdbId'].isnull()]"
   ]
  },
  {
   "cell_type": "code",
   "execution_count": 7,
   "metadata": {},
   "outputs": [
    {
     "data": {
      "text/html": [
       "<div>\n",
       "<style scoped>\n",
       "    .dataframe tbody tr th:only-of-type {\n",
       "        vertical-align: middle;\n",
       "    }\n",
       "\n",
       "    .dataframe tbody tr th {\n",
       "        vertical-align: top;\n",
       "    }\n",
       "\n",
       "    .dataframe thead th {\n",
       "        text-align: right;\n",
       "    }\n",
       "</style>\n",
       "<table border=\"1\" class=\"dataframe\">\n",
       "  <thead>\n",
       "    <tr style=\"text-align: right;\">\n",
       "      <th></th>\n",
       "      <th>movieId</th>\n",
       "      <th>imdbId</th>\n",
       "      <th>tmdbId</th>\n",
       "      <th>title</th>\n",
       "    </tr>\n",
       "  </thead>\n",
       "  <tbody>\n",
       "    <tr>\n",
       "      <th>0</th>\n",
       "      <td>4470</td>\n",
       "      <td>94675</td>\n",
       "      <td>2.0</td>\n",
       "      <td>Ariel (1988)</td>\n",
       "    </tr>\n",
       "    <tr>\n",
       "      <th>1</th>\n",
       "      <td>61724</td>\n",
       "      <td>92149</td>\n",
       "      <td>3.0</td>\n",
       "      <td>Shadows in Paradise (Varjoja paratiisissa) (1986)</td>\n",
       "    </tr>\n",
       "    <tr>\n",
       "      <th>2</th>\n",
       "      <td>18</td>\n",
       "      <td>113101</td>\n",
       "      <td>5.0</td>\n",
       "      <td>Four Rooms (1995)</td>\n",
       "    </tr>\n",
       "    <tr>\n",
       "      <th>3</th>\n",
       "      <td>479</td>\n",
       "      <td>107286</td>\n",
       "      <td>6.0</td>\n",
       "      <td>Judgment Night (1993)</td>\n",
       "    </tr>\n",
       "    <tr>\n",
       "      <th>4</th>\n",
       "      <td>260</td>\n",
       "      <td>76759</td>\n",
       "      <td>11.0</td>\n",
       "      <td>Star Wars: Episode IV - A New Hope (1977)</td>\n",
       "    </tr>\n",
       "    <tr>\n",
       "      <th>...</th>\n",
       "      <td>...</td>\n",
       "      <td>...</td>\n",
       "      <td>...</td>\n",
       "      <td>...</td>\n",
       "    </tr>\n",
       "    <tr>\n",
       "      <th>86532</th>\n",
       "      <td>222211</td>\n",
       "      <td>7688638</td>\n",
       "      <td>NaN</td>\n",
       "      <td>Good Girls Get High (2018)</td>\n",
       "    </tr>\n",
       "    <tr>\n",
       "      <th>86533</th>\n",
       "      <td>224398</td>\n",
       "      <td>5868094</td>\n",
       "      <td>NaN</td>\n",
       "      <td>She Loves Me (2016)</td>\n",
       "    </tr>\n",
       "    <tr>\n",
       "      <th>86534</th>\n",
       "      <td>234301</td>\n",
       "      <td>5714216</td>\n",
       "      <td>NaN</td>\n",
       "      <td>Black Butler: Book of Murder (2014)</td>\n",
       "    </tr>\n",
       "    <tr>\n",
       "      <th>86535</th>\n",
       "      <td>237231</td>\n",
       "      <td>9372822</td>\n",
       "      <td>NaN</td>\n",
       "      <td>Tenderness (2018)</td>\n",
       "    </tr>\n",
       "    <tr>\n",
       "      <th>86536</th>\n",
       "      <td>281988</td>\n",
       "      <td>8031054</td>\n",
       "      <td>NaN</td>\n",
       "      <td>Botero (2020)</td>\n",
       "    </tr>\n",
       "  </tbody>\n",
       "</table>\n",
       "<p>86537 rows × 4 columns</p>\n",
       "</div>"
      ],
      "text/plain": [
       "       movieId   imdbId  tmdbId  \\\n",
       "0         4470    94675     2.0   \n",
       "1        61724    92149     3.0   \n",
       "2           18   113101     5.0   \n",
       "3          479   107286     6.0   \n",
       "4          260    76759    11.0   \n",
       "...        ...      ...     ...   \n",
       "86532   222211  7688638     NaN   \n",
       "86533   224398  5868094     NaN   \n",
       "86534   234301  5714216     NaN   \n",
       "86535   237231  9372822     NaN   \n",
       "86536   281988  8031054     NaN   \n",
       "\n",
       "                                                   title  \n",
       "0                                           Ariel (1988)  \n",
       "1      Shadows in Paradise (Varjoja paratiisissa) (1986)  \n",
       "2                                      Four Rooms (1995)  \n",
       "3                                  Judgment Night (1993)  \n",
       "4              Star Wars: Episode IV - A New Hope (1977)  \n",
       "...                                                  ...  \n",
       "86532                         Good Girls Get High (2018)  \n",
       "86533                                She Loves Me (2016)  \n",
       "86534                Black Butler: Book of Murder (2014)  \n",
       "86535                                  Tenderness (2018)  \n",
       "86536                                      Botero (2020)  \n",
       "\n",
       "[86537 rows x 4 columns]"
      ]
     },
     "execution_count": 7,
     "metadata": {},
     "output_type": "execute_result"
    }
   ],
   "source": [
    "movies = pd.read_csv(os.path.join(pathfolder,'movies.csv'))\n",
    "links = pd.read_csv(os.path.join(pathfolder,'links.csv'))\n",
    "links.sort_values(by='tmdbId',inplace=True)\n",
    "movies_info = links.merge(movies, on='movieId', how='left')\n",
    "del movies_info['genres']\n",
    "# movies.sort_values(by='tmdbId',inplace=True)\n",
    "movies_info\n"
   ]
  },
  {
   "cell_type": "code",
   "execution_count": 8,
   "metadata": {},
   "outputs": [
    {
     "data": {
      "text/plain": [
       "movieId      0\n",
       "imdbId       0\n",
       "tmdbId     126\n",
       "title        0\n",
       "dtype: int64"
      ]
     },
     "execution_count": 8,
     "metadata": {},
     "output_type": "execute_result"
    }
   ],
   "source": [
    "movies_info.isnull().sum()"
   ]
  },
  {
   "cell_type": "code",
   "execution_count": 9,
   "metadata": {},
   "outputs": [
    {
     "name": "stderr",
     "output_type": "stream",
     "text": [
      "Preparing data: 100%|██████████| 86537/86537 [00:03<00:00, 22246.60it/s]\n",
      "Inserting rows: 100%|██████████| 86537/86537 [00:07<00:00, 11200.89it/s]"
     ]
    },
    {
     "name": "stdout",
     "output_type": "stream",
     "text": [
      "PUSH DATA: DONE\n"
     ]
    },
    {
     "name": "stderr",
     "output_type": "stream",
     "text": [
      "\n"
     ]
    }
   ],
   "source": [
    "SQL_push(\n",
    "         sql_table_name='staging.stg_grouplen_movieinfo',\n",
    "         python_table=movies_info,\n",
    "         con=connUAT,\n",
    "         cursor=cursorUAT,\n",
    "         inplace= True\n",
    "        )"
   ]
  },
  {
   "cell_type": "code",
   "execution_count": 8,
   "metadata": {},
   "outputs": [
    {
     "data": {
      "text/html": [
       "<div>\n",
       "<style scoped>\n",
       "    .dataframe tbody tr th:only-of-type {\n",
       "        vertical-align: middle;\n",
       "    }\n",
       "\n",
       "    .dataframe tbody tr th {\n",
       "        vertical-align: top;\n",
       "    }\n",
       "\n",
       "    .dataframe thead th {\n",
       "        text-align: right;\n",
       "    }\n",
       "</style>\n",
       "<table border=\"1\" class=\"dataframe\">\n",
       "  <thead>\n",
       "    <tr style=\"text-align: right;\">\n",
       "      <th></th>\n",
       "      <th>movieId</th>\n",
       "      <th>genres</th>\n",
       "    </tr>\n",
       "  </thead>\n",
       "  <tbody>\n",
       "    <tr>\n",
       "      <th>0</th>\n",
       "      <td>1</td>\n",
       "      <td>Adventure</td>\n",
       "    </tr>\n",
       "    <tr>\n",
       "      <th>0</th>\n",
       "      <td>1</td>\n",
       "      <td>Fantasy</td>\n",
       "    </tr>\n",
       "    <tr>\n",
       "      <th>0</th>\n",
       "      <td>1</td>\n",
       "      <td>Animation</td>\n",
       "    </tr>\n",
       "    <tr>\n",
       "      <th>0</th>\n",
       "      <td>1</td>\n",
       "      <td>Comedy</td>\n",
       "    </tr>\n",
       "    <tr>\n",
       "      <th>0</th>\n",
       "      <td>1</td>\n",
       "      <td>Children</td>\n",
       "    </tr>\n",
       "    <tr>\n",
       "      <th>...</th>\n",
       "      <td>...</td>\n",
       "      <td>...</td>\n",
       "    </tr>\n",
       "    <tr>\n",
       "      <th>86533</th>\n",
       "      <td>288971</td>\n",
       "      <td>Horror</td>\n",
       "    </tr>\n",
       "    <tr>\n",
       "      <th>86534</th>\n",
       "      <td>288975</td>\n",
       "      <td>Documentary</td>\n",
       "    </tr>\n",
       "    <tr>\n",
       "      <th>86535</th>\n",
       "      <td>288977</td>\n",
       "      <td>Thriller</td>\n",
       "    </tr>\n",
       "    <tr>\n",
       "      <th>86535</th>\n",
       "      <td>288977</td>\n",
       "      <td>Crime</td>\n",
       "    </tr>\n",
       "    <tr>\n",
       "      <th>86536</th>\n",
       "      <td>288983</td>\n",
       "      <td>Documentary</td>\n",
       "    </tr>\n",
       "  </tbody>\n",
       "</table>\n",
       "<p>152288 rows × 2 columns</p>\n",
       "</div>"
      ],
      "text/plain": [
       "       movieId       genres\n",
       "0            1    Adventure\n",
       "0            1      Fantasy\n",
       "0            1    Animation\n",
       "0            1       Comedy\n",
       "0            1     Children\n",
       "...        ...          ...\n",
       "86533   288971       Horror\n",
       "86534   288975  Documentary\n",
       "86535   288977     Thriller\n",
       "86535   288977        Crime\n",
       "86536   288983  Documentary\n",
       "\n",
       "[152288 rows x 2 columns]"
      ]
     },
     "execution_count": 8,
     "metadata": {},
     "output_type": "execute_result"
    }
   ],
   "source": [
    "# DONE\n",
    "movies = pd.read_csv(os.path.join(pathfolder,'movies.csv'))\n",
    "movies1 = movies[['movieId','genres']]\n",
    "max_col = [len(i) for i in list(movies1['genres'].str.split('|'))]\n",
    "movies_genres = pd.DataFrame()\n",
    "\n",
    "for i in range(max(max_col)):\n",
    "    data = movies.copy()\n",
    "    data['genres'] = data['genres'].str.split('|',expand=True)[i]\n",
    "    data = data[data['genres'].isnull()==False]\n",
    "    movies_genres = pd.concat([movies_genres,data])\n",
    "\n",
    "movies_genres.sort_values(by='movieId',ascending=True,inplace=True)\n",
    "del movies_genres['title']\n",
    "movies_genres"
   ]
  },
  {
   "cell_type": "code",
   "execution_count": 9,
   "metadata": {},
   "outputs": [
    {
     "data": {
      "text/plain": [
       "movieId    0\n",
       "genres     0\n",
       "dtype: int64"
      ]
     },
     "execution_count": 9,
     "metadata": {},
     "output_type": "execute_result"
    }
   ],
   "source": [
    "movies_genres.isnull().sum()"
   ]
  },
  {
   "cell_type": "code",
   "execution_count": 10,
   "metadata": {},
   "outputs": [
    {
     "name": "stderr",
     "output_type": "stream",
     "text": [
      "Preparing data: 100%|██████████| 152288/152288 [00:05<00:00, 26753.18it/s]\n",
      "Inserting rows: 100%|██████████| 152288/152288 [00:13<00:00, 11712.52it/s]"
     ]
    },
    {
     "name": "stdout",
     "output_type": "stream",
     "text": [
      "PUSH DATA: DONE\n"
     ]
    },
    {
     "name": "stderr",
     "output_type": "stream",
     "text": [
      "\n"
     ]
    }
   ],
   "source": [
    "SQL_push(\n",
    "         sql_table_name='staging.stg_grouplen_moviesgenres',\n",
    "         python_table=movies_genres,\n",
    "         con=connUAT,\n",
    "         cursor=cursorUAT,\n",
    "         inplace= True\n",
    "        )"
   ]
  },
  {
   "cell_type": "code",
   "execution_count": 11,
   "metadata": {},
   "outputs": [
    {
     "data": {
      "text/html": [
       "<div>\n",
       "<style scoped>\n",
       "    .dataframe tbody tr th:only-of-type {\n",
       "        vertical-align: middle;\n",
       "    }\n",
       "\n",
       "    .dataframe tbody tr th {\n",
       "        vertical-align: top;\n",
       "    }\n",
       "\n",
       "    .dataframe thead th {\n",
       "        text-align: right;\n",
       "    }\n",
       "</style>\n",
       "<table border=\"1\" class=\"dataframe\">\n",
       "  <thead>\n",
       "    <tr style=\"text-align: right;\">\n",
       "      <th></th>\n",
       "      <th>userId</th>\n",
       "      <th>movieId</th>\n",
       "      <th>tag</th>\n",
       "      <th>date_time</th>\n",
       "    </tr>\n",
       "  </thead>\n",
       "  <tbody>\n",
       "    <tr>\n",
       "      <th>0</th>\n",
       "      <td>10</td>\n",
       "      <td>260</td>\n",
       "      <td>good vs evil</td>\n",
       "      <td>2015-05-03 15:22:38</td>\n",
       "    </tr>\n",
       "    <tr>\n",
       "      <th>1</th>\n",
       "      <td>10</td>\n",
       "      <td>260</td>\n",
       "      <td>harrison ford</td>\n",
       "      <td>2015-05-03 15:21:45</td>\n",
       "    </tr>\n",
       "    <tr>\n",
       "      <th>2</th>\n",
       "      <td>10</td>\n",
       "      <td>260</td>\n",
       "      <td>sci-fi</td>\n",
       "      <td>2015-05-03 15:22:18</td>\n",
       "    </tr>\n",
       "    <tr>\n",
       "      <th>3</th>\n",
       "      <td>14</td>\n",
       "      <td>1221</td>\n",
       "      <td>al pacino</td>\n",
       "      <td>2011-07-25 13:32:36</td>\n",
       "    </tr>\n",
       "    <tr>\n",
       "      <th>4</th>\n",
       "      <td>14</td>\n",
       "      <td>1221</td>\n",
       "      <td>mafia</td>\n",
       "      <td>2011-07-25 13:32:26</td>\n",
       "    </tr>\n",
       "    <tr>\n",
       "      <th>...</th>\n",
       "      <td>...</td>\n",
       "      <td>...</td>\n",
       "      <td>...</td>\n",
       "      <td>...</td>\n",
       "    </tr>\n",
       "    <tr>\n",
       "      <th>2328310</th>\n",
       "      <td>330923</td>\n",
       "      <td>176599</td>\n",
       "      <td>politically correct</td>\n",
       "      <td>2017-10-09 11:11:31</td>\n",
       "    </tr>\n",
       "    <tr>\n",
       "      <th>2328311</th>\n",
       "      <td>330933</td>\n",
       "      <td>3317</td>\n",
       "      <td>coming of age</td>\n",
       "      <td>2012-10-26 19:23:04</td>\n",
       "    </tr>\n",
       "    <tr>\n",
       "      <th>2328312</th>\n",
       "      <td>330933</td>\n",
       "      <td>3317</td>\n",
       "      <td>sexuality</td>\n",
       "      <td>2012-10-26 19:23:09</td>\n",
       "    </tr>\n",
       "    <tr>\n",
       "      <th>2328313</th>\n",
       "      <td>330947</td>\n",
       "      <td>5782</td>\n",
       "      <td>not luc besson</td>\n",
       "      <td>2006-07-28 18:21:42</td>\n",
       "    </tr>\n",
       "    <tr>\n",
       "      <th>2328314</th>\n",
       "      <td>330947</td>\n",
       "      <td>44191</td>\n",
       "      <td>comic book</td>\n",
       "      <td>2006-07-30 14:58:45</td>\n",
       "    </tr>\n",
       "  </tbody>\n",
       "</table>\n",
       "<p>2328315 rows × 4 columns</p>\n",
       "</div>"
      ],
      "text/plain": [
       "         userId  movieId                  tag           date_time\n",
       "0            10      260         good vs evil 2015-05-03 15:22:38\n",
       "1            10      260        harrison ford 2015-05-03 15:21:45\n",
       "2            10      260               sci-fi 2015-05-03 15:22:18\n",
       "3            14     1221            al pacino 2011-07-25 13:32:36\n",
       "4            14     1221                mafia 2011-07-25 13:32:26\n",
       "...         ...      ...                  ...                 ...\n",
       "2328310  330923   176599  politically correct 2017-10-09 11:11:31\n",
       "2328311  330933     3317        coming of age 2012-10-26 19:23:04\n",
       "2328312  330933     3317            sexuality 2012-10-26 19:23:09\n",
       "2328313  330947     5782       not luc besson 2006-07-28 18:21:42\n",
       "2328314  330947    44191           comic book 2006-07-30 14:58:45\n",
       "\n",
       "[2328315 rows x 4 columns]"
      ]
     },
     "execution_count": 11,
     "metadata": {},
     "output_type": "execute_result"
    }
   ],
   "source": [
    "# DONE\n",
    "moives_tags = pd.read_csv(os.path.join(pathfolder,'tags.csv'))\n",
    "moives_tags['date_time'] = pd.to_datetime(moives_tags['timestamp'],unit='s')\n",
    "# moives_tags['date'] = pd.to_datetime(moives_tags['date_time'],format='%Y-%m-%d %H:%M:%S').dt.strftime('%Y-%m-%d')\n",
    "moives_tags['tag'] = moives_tags['tag'].str.lower().str.strip()\n",
    "moives_tags['tag'] = moives_tags['tag'].replace('',np.nan)\n",
    "del moives_tags['timestamp']\n",
    "# tags.sort_values(by='tmdbId',inplace=True)\n",
    "moives_tags"
   ]
  },
  {
   "cell_type": "code",
   "execution_count": 12,
   "metadata": {},
   "outputs": [
    {
     "data": {
      "text/plain": [
       "userId        0\n",
       "movieId       0\n",
       "tag          27\n",
       "date_time     0\n",
       "dtype: int64"
      ]
     },
     "execution_count": 12,
     "metadata": {},
     "output_type": "execute_result"
    }
   ],
   "source": [
    "moives_tags.isnull().sum()"
   ]
  },
  {
   "cell_type": "code",
   "execution_count": 13,
   "metadata": {},
   "outputs": [
    {
     "name": "stderr",
     "output_type": "stream",
     "text": [
      "Preparing data: 100%|██████████| 2328315/2328315 [01:23<00:00, 27771.71it/s]\n",
      "Inserting rows: 100%|██████████| 2328315/2328315 [04:03<00:00, 9568.43it/s] \n"
     ]
    },
    {
     "name": "stdout",
     "output_type": "stream",
     "text": [
      "PUSH DATA: DONE\n"
     ]
    }
   ],
   "source": [
    "SQL_push(\n",
    "            sql_table_name= 'staging.stg_grouplen_moviestags',\n",
    "            python_table= moives_tags,\n",
    "            con= connUAT,\n",
    "            cursor= cursorUAT,\n",
    "            inplace= True\n",
    "        )"
   ]
  },
  {
   "cell_type": "code",
   "execution_count": 14,
   "metadata": {},
   "outputs": [
    {
     "data": {
      "text/html": [
       "<div>\n",
       "<style scoped>\n",
       "    .dataframe tbody tr th:only-of-type {\n",
       "        vertical-align: middle;\n",
       "    }\n",
       "\n",
       "    .dataframe tbody tr th {\n",
       "        vertical-align: top;\n",
       "    }\n",
       "\n",
       "    .dataframe thead th {\n",
       "        text-align: right;\n",
       "    }\n",
       "</style>\n",
       "<table border=\"1\" class=\"dataframe\">\n",
       "  <thead>\n",
       "    <tr style=\"text-align: right;\">\n",
       "      <th></th>\n",
       "      <th>userId</th>\n",
       "      <th>movieId</th>\n",
       "      <th>rating</th>\n",
       "      <th>date_time</th>\n",
       "    </tr>\n",
       "  </thead>\n",
       "  <tbody>\n",
       "    <tr>\n",
       "      <th>0</th>\n",
       "      <td>1</td>\n",
       "      <td>1</td>\n",
       "      <td>4.0</td>\n",
       "      <td>2008-11-03 17:52:19</td>\n",
       "    </tr>\n",
       "    <tr>\n",
       "      <th>1</th>\n",
       "      <td>1</td>\n",
       "      <td>110</td>\n",
       "      <td>4.0</td>\n",
       "      <td>2008-11-05 06:04:46</td>\n",
       "    </tr>\n",
       "    <tr>\n",
       "      <th>2</th>\n",
       "      <td>1</td>\n",
       "      <td>158</td>\n",
       "      <td>4.0</td>\n",
       "      <td>2008-11-03 17:31:43</td>\n",
       "    </tr>\n",
       "    <tr>\n",
       "      <th>3</th>\n",
       "      <td>1</td>\n",
       "      <td>260</td>\n",
       "      <td>4.5</td>\n",
       "      <td>2008-11-03 18:00:04</td>\n",
       "    </tr>\n",
       "    <tr>\n",
       "      <th>4</th>\n",
       "      <td>1</td>\n",
       "      <td>356</td>\n",
       "      <td>5.0</td>\n",
       "      <td>2008-11-03 17:58:39</td>\n",
       "    </tr>\n",
       "    <tr>\n",
       "      <th>...</th>\n",
       "      <td>...</td>\n",
       "      <td>...</td>\n",
       "      <td>...</td>\n",
       "      <td>...</td>\n",
       "    </tr>\n",
       "    <tr>\n",
       "      <th>33832157</th>\n",
       "      <td>330975</td>\n",
       "      <td>8340</td>\n",
       "      <td>2.0</td>\n",
       "      <td>2004-08-04 01:34:16</td>\n",
       "    </tr>\n",
       "    <tr>\n",
       "      <th>33832158</th>\n",
       "      <td>330975</td>\n",
       "      <td>8493</td>\n",
       "      <td>2.5</td>\n",
       "      <td>2004-08-04 02:15:09</td>\n",
       "    </tr>\n",
       "    <tr>\n",
       "      <th>33832159</th>\n",
       "      <td>330975</td>\n",
       "      <td>8622</td>\n",
       "      <td>4.0</td>\n",
       "      <td>2004-08-04 01:09:37</td>\n",
       "    </tr>\n",
       "    <tr>\n",
       "      <th>33832160</th>\n",
       "      <td>330975</td>\n",
       "      <td>8665</td>\n",
       "      <td>3.0</td>\n",
       "      <td>2004-08-04 01:09:25</td>\n",
       "    </tr>\n",
       "    <tr>\n",
       "      <th>33832161</th>\n",
       "      <td>330975</td>\n",
       "      <td>8783</td>\n",
       "      <td>2.5</td>\n",
       "      <td>2004-08-04 01:09:59</td>\n",
       "    </tr>\n",
       "  </tbody>\n",
       "</table>\n",
       "<p>33832162 rows × 4 columns</p>\n",
       "</div>"
      ],
      "text/plain": [
       "          userId  movieId  rating           date_time\n",
       "0              1        1     4.0 2008-11-03 17:52:19\n",
       "1              1      110     4.0 2008-11-05 06:04:46\n",
       "2              1      158     4.0 2008-11-03 17:31:43\n",
       "3              1      260     4.5 2008-11-03 18:00:04\n",
       "4              1      356     5.0 2008-11-03 17:58:39\n",
       "...          ...      ...     ...                 ...\n",
       "33832157  330975     8340     2.0 2004-08-04 01:34:16\n",
       "33832158  330975     8493     2.5 2004-08-04 02:15:09\n",
       "33832159  330975     8622     4.0 2004-08-04 01:09:37\n",
       "33832160  330975     8665     3.0 2004-08-04 01:09:25\n",
       "33832161  330975     8783     2.5 2004-08-04 01:09:59\n",
       "\n",
       "[33832162 rows x 4 columns]"
      ]
     },
     "execution_count": 14,
     "metadata": {},
     "output_type": "execute_result"
    }
   ],
   "source": [
    "# DONE\n",
    "movies_ratings = pd.read_csv(os.path.join(pathfolder,'ratings.csv'))\n",
    "movies_ratings['date_time'] = pd.to_datetime(movies_ratings['timestamp'],unit='s')\n",
    "del movies_ratings['timestamp']\n",
    "movies_ratings"
   ]
  },
  {
   "cell_type": "code",
   "execution_count": 15,
   "metadata": {},
   "outputs": [
    {
     "data": {
      "text/plain": [
       "userId       0\n",
       "movieId      0\n",
       "rating       0\n",
       "date_time    0\n",
       "dtype: int64"
      ]
     },
     "execution_count": 15,
     "metadata": {},
     "output_type": "execute_result"
    }
   ],
   "source": [
    "movies_ratings.isnull().sum()"
   ]
  },
  {
   "cell_type": "code",
   "execution_count": 17,
   "metadata": {},
   "outputs": [
    {
     "name": "stderr",
     "output_type": "stream",
     "text": [
      "Preparing data: 100%|██████████| 33832162/33832162 [21:14<00:00, 26546.66it/s] \n",
      "Inserting rows: 100%|██████████| 33832162/33832162 [1:09:39<00:00, 8095.11it/s] \n"
     ]
    },
    {
     "name": "stdout",
     "output_type": "stream",
     "text": [
      "PUSH DATA: DONE\n"
     ]
    }
   ],
   "source": [
    "SQL_push(\n",
    "            sql_table_name= 'staging.stg_grouplen_moviesratings',\n",
    "            python_table= movies_ratings,\n",
    "            con= connUAT,\n",
    "            cursor= cursorUAT,\n",
    "            inplace= True\n",
    "        )"
   ]
  },
  {
   "cell_type": "code",
   "execution_count": 18,
   "metadata": {},
   "outputs": [
    {
     "data": {
      "text/html": [
       "<div>\n",
       "<style scoped>\n",
       "    .dataframe tbody tr th:only-of-type {\n",
       "        vertical-align: middle;\n",
       "    }\n",
       "\n",
       "    .dataframe tbody tr th {\n",
       "        vertical-align: top;\n",
       "    }\n",
       "\n",
       "    .dataframe thead th {\n",
       "        text-align: right;\n",
       "    }\n",
       "</style>\n",
       "<table border=\"1\" class=\"dataframe\">\n",
       "  <thead>\n",
       "    <tr style=\"text-align: right;\">\n",
       "      <th></th>\n",
       "      <th>movieId</th>\n",
       "      <th>tagId</th>\n",
       "      <th>relevance</th>\n",
       "    </tr>\n",
       "  </thead>\n",
       "  <tbody>\n",
       "    <tr>\n",
       "      <th>0</th>\n",
       "      <td>1</td>\n",
       "      <td>1</td>\n",
       "      <td>0.03200</td>\n",
       "    </tr>\n",
       "    <tr>\n",
       "      <th>1</th>\n",
       "      <td>1</td>\n",
       "      <td>2</td>\n",
       "      <td>0.02225</td>\n",
       "    </tr>\n",
       "    <tr>\n",
       "      <th>2</th>\n",
       "      <td>1</td>\n",
       "      <td>3</td>\n",
       "      <td>0.07000</td>\n",
       "    </tr>\n",
       "    <tr>\n",
       "      <th>3</th>\n",
       "      <td>1</td>\n",
       "      <td>4</td>\n",
       "      <td>0.05900</td>\n",
       "    </tr>\n",
       "    <tr>\n",
       "      <th>4</th>\n",
       "      <td>1</td>\n",
       "      <td>5</td>\n",
       "      <td>0.12300</td>\n",
       "    </tr>\n",
       "    <tr>\n",
       "      <th>...</th>\n",
       "      <td>...</td>\n",
       "      <td>...</td>\n",
       "      <td>...</td>\n",
       "    </tr>\n",
       "    <tr>\n",
       "      <th>18472123</th>\n",
       "      <td>288167</td>\n",
       "      <td>1124</td>\n",
       "      <td>0.09875</td>\n",
       "    </tr>\n",
       "    <tr>\n",
       "      <th>18472124</th>\n",
       "      <td>288167</td>\n",
       "      <td>1125</td>\n",
       "      <td>0.02950</td>\n",
       "    </tr>\n",
       "    <tr>\n",
       "      <th>18472125</th>\n",
       "      <td>288167</td>\n",
       "      <td>1126</td>\n",
       "      <td>0.02275</td>\n",
       "    </tr>\n",
       "    <tr>\n",
       "      <th>18472126</th>\n",
       "      <td>288167</td>\n",
       "      <td>1127</td>\n",
       "      <td>0.11225</td>\n",
       "    </tr>\n",
       "    <tr>\n",
       "      <th>18472127</th>\n",
       "      <td>288167</td>\n",
       "      <td>1128</td>\n",
       "      <td>0.03025</td>\n",
       "    </tr>\n",
       "  </tbody>\n",
       "</table>\n",
       "<p>18472128 rows × 3 columns</p>\n",
       "</div>"
      ],
      "text/plain": [
       "          movieId  tagId  relevance\n",
       "0               1      1    0.03200\n",
       "1               1      2    0.02225\n",
       "2               1      3    0.07000\n",
       "3               1      4    0.05900\n",
       "4               1      5    0.12300\n",
       "...           ...    ...        ...\n",
       "18472123   288167   1124    0.09875\n",
       "18472124   288167   1125    0.02950\n",
       "18472125   288167   1126    0.02275\n",
       "18472126   288167   1127    0.11225\n",
       "18472127   288167   1128    0.03025\n",
       "\n",
       "[18472128 rows x 3 columns]"
      ]
     },
     "execution_count": 18,
     "metadata": {},
     "output_type": "execute_result"
    }
   ],
   "source": [
    "# DONE\n",
    "genome_s = pd.read_csv(os.path.join(pathfolder,'genome-scores.csv'))\n",
    "genome_s"
   ]
  },
  {
   "cell_type": "code",
   "execution_count": 19,
   "metadata": {},
   "outputs": [
    {
     "data": {
      "text/plain": [
       "movieId      0\n",
       "tagId        0\n",
       "relevance    0\n",
       "dtype: int64"
      ]
     },
     "execution_count": 19,
     "metadata": {},
     "output_type": "execute_result"
    }
   ],
   "source": [
    "genome_s.isnull().sum()"
   ]
  },
  {
   "cell_type": "code",
   "execution_count": 20,
   "metadata": {},
   "outputs": [
    {
     "name": "stderr",
     "output_type": "stream",
     "text": [
      "Preparing data: 100%|██████████| 18472128/18472128 [08:48<00:00, 34947.36it/s]\n",
      "Inserting rows: 100%|██████████| 18472128/18472128 [31:58<00:00, 9626.37it/s] \n"
     ]
    },
    {
     "name": "stdout",
     "output_type": "stream",
     "text": [
      "PUSH DATA: DONE\n"
     ]
    }
   ],
   "source": [
    "SQL_push(\n",
    "            sql_table_name= 'staging.stg_genome_scores',\n",
    "            python_table= genome_s,\n",
    "            con= connUAT,\n",
    "            cursor= cursorUAT,\n",
    "            inplace= True\n",
    "        )"
   ]
  },
  {
   "cell_type": "code",
   "execution_count": 21,
   "metadata": {},
   "outputs": [
    {
     "data": {
      "text/html": [
       "<div>\n",
       "<style scoped>\n",
       "    .dataframe tbody tr th:only-of-type {\n",
       "        vertical-align: middle;\n",
       "    }\n",
       "\n",
       "    .dataframe tbody tr th {\n",
       "        vertical-align: top;\n",
       "    }\n",
       "\n",
       "    .dataframe thead th {\n",
       "        text-align: right;\n",
       "    }\n",
       "</style>\n",
       "<table border=\"1\" class=\"dataframe\">\n",
       "  <thead>\n",
       "    <tr style=\"text-align: right;\">\n",
       "      <th></th>\n",
       "      <th>tagId</th>\n",
       "      <th>tag</th>\n",
       "    </tr>\n",
       "  </thead>\n",
       "  <tbody>\n",
       "    <tr>\n",
       "      <th>0</th>\n",
       "      <td>1</td>\n",
       "      <td>007</td>\n",
       "    </tr>\n",
       "    <tr>\n",
       "      <th>1</th>\n",
       "      <td>2</td>\n",
       "      <td>007 (series)</td>\n",
       "    </tr>\n",
       "    <tr>\n",
       "      <th>2</th>\n",
       "      <td>3</td>\n",
       "      <td>18th century</td>\n",
       "    </tr>\n",
       "    <tr>\n",
       "      <th>3</th>\n",
       "      <td>4</td>\n",
       "      <td>1920s</td>\n",
       "    </tr>\n",
       "    <tr>\n",
       "      <th>4</th>\n",
       "      <td>5</td>\n",
       "      <td>1930s</td>\n",
       "    </tr>\n",
       "    <tr>\n",
       "      <th>...</th>\n",
       "      <td>...</td>\n",
       "      <td>...</td>\n",
       "    </tr>\n",
       "    <tr>\n",
       "      <th>1123</th>\n",
       "      <td>1124</td>\n",
       "      <td>writing</td>\n",
       "    </tr>\n",
       "    <tr>\n",
       "      <th>1124</th>\n",
       "      <td>1125</td>\n",
       "      <td>wuxia</td>\n",
       "    </tr>\n",
       "    <tr>\n",
       "      <th>1125</th>\n",
       "      <td>1126</td>\n",
       "      <td>wwii</td>\n",
       "    </tr>\n",
       "    <tr>\n",
       "      <th>1126</th>\n",
       "      <td>1127</td>\n",
       "      <td>zombie</td>\n",
       "    </tr>\n",
       "    <tr>\n",
       "      <th>1127</th>\n",
       "      <td>1128</td>\n",
       "      <td>zombies</td>\n",
       "    </tr>\n",
       "  </tbody>\n",
       "</table>\n",
       "<p>1128 rows × 2 columns</p>\n",
       "</div>"
      ],
      "text/plain": [
       "      tagId           tag\n",
       "0         1           007\n",
       "1         2  007 (series)\n",
       "2         3  18th century\n",
       "3         4         1920s\n",
       "4         5         1930s\n",
       "...     ...           ...\n",
       "1123   1124       writing\n",
       "1124   1125         wuxia\n",
       "1125   1126          wwii\n",
       "1126   1127        zombie\n",
       "1127   1128       zombies\n",
       "\n",
       "[1128 rows x 2 columns]"
      ]
     },
     "execution_count": 21,
     "metadata": {},
     "output_type": "execute_result"
    }
   ],
   "source": [
    "# DONE\n",
    "genome_t = pd.read_csv(os.path.join(pathfolder,'genome-tags.csv'))\n",
    "genome_t"
   ]
  },
  {
   "cell_type": "code",
   "execution_count": 22,
   "metadata": {},
   "outputs": [
    {
     "data": {
      "text/plain": [
       "tagId    0\n",
       "tag      0\n",
       "dtype: int64"
      ]
     },
     "execution_count": 22,
     "metadata": {},
     "output_type": "execute_result"
    }
   ],
   "source": [
    "genome_t.isnull().sum()"
   ]
  },
  {
   "cell_type": "code",
   "execution_count": 23,
   "metadata": {},
   "outputs": [
    {
     "name": "stderr",
     "output_type": "stream",
     "text": [
      "Preparing data: 100%|██████████| 1128/1128 [00:00<00:00, 13982.34it/s]\n",
      "Inserting rows: 100%|██████████| 1128/1128 [00:00<00:00, 7412.66it/s]"
     ]
    },
    {
     "name": "stdout",
     "output_type": "stream",
     "text": [
      "PUSH DATA: DONE\n"
     ]
    },
    {
     "name": "stderr",
     "output_type": "stream",
     "text": [
      "\n"
     ]
    }
   ],
   "source": [
    "SQL_push(\n",
    "            sql_table_name= 'staging.stg_genome_tags',\n",
    "            python_table= genome_t,\n",
    "            con= connUAT,\n",
    "            cursor= cursorUAT,\n",
    "            inplace= True\n",
    "        )"
   ]
  }
 ],
 "metadata": {
  "kernelspec": {
   "display_name": "DK-local",
   "language": "python",
   "name": "python3"
  },
  "language_info": {
   "codemirror_mode": {
    "name": "ipython",
    "version": 3
   },
   "file_extension": ".py",
   "mimetype": "text/x-python",
   "name": "python",
   "nbconvert_exporter": "python",
   "pygments_lexer": "ipython3",
   "version": "3.10.0"
  }
 },
 "nbformat": 4,
 "nbformat_minor": 2
}
