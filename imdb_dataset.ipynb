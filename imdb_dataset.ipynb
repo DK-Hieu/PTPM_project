{
 "cells": [
  {
   "cell_type": "code",
   "execution_count": 2,
   "metadata": {},
   "outputs": [],
   "source": [
    "import dask.dataframe as dd\n",
    "import pandas as pd\n",
    "import numpy as np\n",
    "import os\n",
    "from datetime import datetime, timedelta\n",
    "import time\n",
    "from tqdm import tqdm\n",
    "import warnings\n",
    "warnings.filterwarnings('ignore') # turn off warnings\n",
    "\n",
    "import psycopg2\n",
    "\n",
    "connPROC = psycopg2.connect(\n",
    "     host='localhost',\n",
    "     database='prod',\n",
    "     port=5431,\n",
    "     user='postgres',\n",
    "     password='1234567890'\n",
    "  )\n",
    "\n",
    "cursorPROC = connPROC.cursor()\n",
    "\n",
    "def selectdf(query,conn):\n",
    "    df = pd.read_sql(query, conn)\n",
    "    return df\n",
    "  \n",
    "def SQL_push(sql_table_name,python_table):\n",
    "    sql = f\"INSERT INTO {sql_table_name} VALUES ({','.join(['%s'] * len(python_table.columns))})\"\n",
    "\n",
    "    data = [tuple(row) for _, row in tqdm(python_table.iterrows(), total=len(python_table), desc=\"Preparing data\")]\n",
    "\n",
    "    # Chèn dữ liệu với xử lý lỗi\n",
    "    for row in tqdm(data, total=len(data), desc=\"Inserting rows\"):\n",
    "        try:\n",
    "            cursorPROC.execute(sql, row)\n",
    "        except Exception as e:\n",
    "            print(f\"Lỗi khi chèn dòng {row}: {e}\")\n",
    "            connPROC.rollback()  # Hủy giao dịch khi có lỗi, tránh PostgreSQL khóa transaction\n",
    "\n",
    "    # Sau khi xong thì commit lại\n",
    "    connPROC.commit()\n",
    "    print(\"PUSH DATA: DONE\")\n",
    "\n",
    "dataset_path = 'F:\\Work\\Caohoc_2024_2026\\PTPM_project\\imdb_dataset'"
   ]
  },
  {
   "cell_type": "code",
   "execution_count": 3,
   "metadata": {},
   "outputs": [
    {
     "data": {
      "text/plain": [
       "'\\n-- 23032025 - hieudd - Đẩy dữ liệu thẳng vào DB, Dữ liệu clear\\n'"
      ]
     },
     "execution_count": 3,
     "metadata": {},
     "output_type": "execute_result"
    }
   ],
   "source": [
    "'''\n",
    "-- 23032025 - hieudd - Đẩy dữ liệu thẳng vào DB, Dữ liệu clear\n",
    "'''\n",
    "# title_ratings = pd.read_csv(os.path.join(dataset_path,'title.ratings.tsv'),sep=\"\\t\")\n",
    "# title_ratings"
   ]
  },
  {
   "cell_type": "code",
   "execution_count": 4,
   "metadata": {},
   "outputs": [],
   "source": [
    "# title_crew = pd.read_csv(os.path.join(dataset_path,'title.crew.tsv'),sep=\"\\t\")\n",
    "# title_crew['directors'] = title_crew['directors'].replace(r'\\N', np.nan)\n",
    "# title_crew['writers'] = title_crew['writers'].replace(r'\\N', np.nan)\n",
    "# title_crew"
   ]
  },
  {
   "cell_type": "code",
   "execution_count": null,
   "metadata": {},
   "outputs": [
    {
     "data": {
      "application/vnd.microsoft.datawrangler.viewer.v0+json": {
       "columns": [
        {
         "name": "index",
         "rawType": "int64",
         "type": "integer"
        },
        {
         "name": "nconst",
         "rawType": "object",
         "type": "string"
        },
        {
         "name": "primaryName",
         "rawType": "object",
         "type": "string"
        },
        {
         "name": "birthYear",
         "rawType": "object",
         "type": "string"
        },
        {
         "name": "deathYear",
         "rawType": "object",
         "type": "unknown"
        },
        {
         "name": "primaryProfession",
         "rawType": "object",
         "type": "string"
        },
        {
         "name": "knownForTitles",
         "rawType": "object",
         "type": "string"
        }
       ],
       "conversionMethod": "pd.DataFrame",
       "ref": "2106dc85-ec60-4d33-9958-60c410aa6f69",
       "rows": [
        [
         "0",
         "nm0000001",
         "Fred Astaire",
         "1899",
         "1987",
         "actor,miscellaneous,producer",
         "tt0072308,tt0050419,tt0027125,tt0031983"
        ],
        [
         "1",
         "nm0000002",
         "Lauren Bacall",
         "1924",
         "2014",
         "actress,soundtrack,archive_footage",
         "tt0037382,tt0075213,tt0038355,tt0117057"
        ],
        [
         "2",
         "nm0000003",
         "Brigitte Bardot",
         "1934",
         null,
         "actress,music_department,producer",
         "tt0057345,tt0049189,tt0056404,tt0054452"
        ],
        [
         "3",
         "nm0000004",
         "John Belushi",
         "1949",
         "1982",
         "actor,writer,music_department",
         "tt0072562,tt0077975,tt0080455,tt0078723"
        ],
        [
         "4",
         "nm0000005",
         "Ingmar Bergman",
         "1918",
         "2007",
         "writer,director,actor",
         "tt0050986,tt0069467,tt0050976,tt0083922"
        ],
        [
         "5",
         "nm0000006",
         "Ingrid Bergman",
         "1915",
         "1982",
         "actress,producer,soundtrack",
         "tt0034583,tt0038109,tt0036855,tt0038787"
        ],
        [
         "6",
         "nm0000007",
         "Humphrey Bogart",
         "1899",
         "1957",
         "actor,producer,miscellaneous",
         "tt0034583,tt0043265,tt0037382,tt0033870"
        ],
        [
         "7",
         "nm0000008",
         "Marlon Brando",
         "1924",
         "2004",
         "actor,director,writer",
         "tt0078788,tt0068646,tt0047296,tt0044081"
        ],
        [
         "8",
         "nm0000009",
         "Richard Burton",
         "1925",
         "1984",
         "actor,producer,director",
         "tt0061184,tt0087803,tt0059749,tt0057877"
        ],
        [
         "9",
         "nm0000010",
         "James Cagney",
         "1899",
         "1986",
         "actor,director,producer",
         "tt0029870,tt0031867,tt0042041,tt0034236"
        ],
        [
         "10",
         "nm0000011",
         "Gary Cooper",
         "1901",
         "1961",
         "actor,stunts,producer",
         "tt0044706,tt0034167,tt0027996,tt0033373"
        ],
        [
         "11",
         "nm0000012",
         "Bette Davis",
         "1908",
         "1989",
         "actress,make_up_department,producer",
         "tt0042192,tt0056687,tt0035140,tt0031210"
        ],
        [
         "12",
         "nm0000013",
         "Doris Day",
         "1922",
         "2019",
         "actress,producer,miscellaneous",
         "tt0048317,tt0045591,tt0053172,tt0040745"
        ],
        [
         "13",
         "nm0000014",
         "Olivia de Havilland",
         "1916",
         "2020",
         "actress,soundtrack,archive_footage",
         "tt0031381,tt0041452,tt0029843,tt0040806"
        ],
        [
         "14",
         "nm0000015",
         "James Dean",
         "1931",
         "1955",
         "actor,miscellaneous,archive_footage",
         "tt0048028,tt0048545,tt0049261,tt0039123"
        ],
        [
         "15",
         "nm0000016",
         "Georges Delerue",
         "1925",
         "1992",
         "composer,music_department,actor",
         "tt0091763,tt0096320,tt0069946,tt0079477"
        ],
        [
         "16",
         "nm0000017",
         "Marlene Dietrich",
         "1901",
         "1992",
         "actress,music_department,soundtrack",
         "tt0051201,tt0021156,tt0055031,tt0052311"
        ],
        [
         "17",
         "nm0000018",
         "Kirk Douglas",
         "1916",
         "2020",
         "actor,producer,director",
         "tt0043338,tt0080736,tt0054331,tt0049456"
        ],
        [
         "18",
         "nm0000019",
         "Federico Fellini",
         "1920",
         "1993",
         "writer,director,actor",
         "tt0056801,tt0050783,tt0047528,tt0071129"
        ],
        [
         "19",
         "nm0000020",
         "Henry Fonda",
         "1905",
         "1982",
         "actor,producer,miscellaneous",
         "tt0050083,tt0082846,tt0032551,tt0033804"
        ],
        [
         "20",
         "nm0000021",
         "Joan Fontaine",
         "1917",
         "2013",
         "actress,producer,soundtrack",
         "tt0032976,tt0034248,tt0036969,tt0039504"
        ],
        [
         "21",
         "nm0000022",
         "Clark Gable",
         "1901",
         "1960",
         "actor,producer,soundtrack",
         "tt0025316,tt0031381,tt0023382,tt0026752"
        ],
        [
         "22",
         "nm0000023",
         "Judy Garland",
         "1922",
         "1969",
         "actress,soundtrack,archive_footage",
         "tt0032138,tt0037059,tt0047522,tt0055031"
        ],
        [
         "23",
         "nm0000024",
         "John Gielgud",
         "1904",
         "2000",
         "actor,director,writer",
         "tt0082031,tt0071877,tt0045943,tt0028231"
        ],
        [
         "24",
         "nm0000025",
         "Jerry Goldsmith",
         "1929",
         "2004",
         "music_department,composer,miscellaneous",
         "tt0119488,tt0077269,tt0112715,tt0117731"
        ],
        [
         "25",
         "nm0000026",
         "Cary Grant",
         "1904",
         "1986",
         "actor,producer,soundtrack",
         "tt0036613,tt0032599,tt0032904,tt0056923"
        ],
        [
         "26",
         "nm0000027",
         "Alec Guinness",
         "1914",
         "2000",
         "actor,writer,soundtrack",
         "tt0076759,tt0050212,tt0041546,tt0051739"
        ],
        [
         "27",
         "nm0000028",
         "Rita Hayworth",
         "1918",
         "1987",
         "actress,producer,soundtrack",
         "tt0038559,tt0040525,tt0040552,tt0035103"
        ],
        [
         "28",
         "nm0000029",
         "Margaux Hemingway",
         "1954",
         "1996",
         "actress,miscellaneous,archive_footage",
         "tt0077800,tt0102122,tt0110138,tt0074802"
        ],
        [
         "29",
         "nm0000030",
         "Audrey Hepburn",
         "1929",
         "1993",
         "actress,soundtrack,archive_footage",
         "tt0054698,tt0046250,tt0056923,tt0058385"
        ],
        [
         "30",
         "nm0000031",
         "Katharine Hepburn",
         "1907",
         "2003",
         "actress,writer,soundtrack",
         "tt0043265,tt0032904,tt0063227,tt0082846"
        ],
        [
         "31",
         "nm0000032",
         "Charlton Heston",
         "1923",
         "2008",
         "actor,director,writer",
         "tt0052618,tt0049833,tt0067525,tt0070723"
        ],
        [
         "32",
         "nm0000033",
         "Alfred Hitchcock",
         "1899",
         "1980",
         "director,producer,writer",
         "tt0054215,tt0052357,tt0053125,tt0034248"
        ],
        [
         "33",
         "nm0000034",
         "William Holden",
         "1918",
         "1981",
         "actor,miscellaneous,soundtrack",
         "tt0046359,tt0047437,tt0043014,tt0074958"
        ],
        [
         "34",
         "nm0000035",
         "James Horner",
         "1953",
         "2015",
         "music_department,composer,actor",
         "tt0120338,tt0499549,tt0177971,tt0120746"
        ],
        [
         "35",
         "nm0000036",
         "Buster Keaton",
         "1895",
         "1966",
         "actor,writer,director",
         "tt0017925,tt0015163,tt0015324,tt0016332"
        ],
        [
         "36",
         "nm0000037",
         "Gene Kelly",
         "1912",
         "1996",
         "actor,miscellaneous,director",
         "tt0045152,tt0043278,tt0041716,tt0053946"
        ],
        [
         "37",
         "nm0000038",
         "Grace Kelly",
         "1929",
         "1982",
         "actress,producer,soundtrack",
         "tt0046912,tt0047396,tt0048728,tt0046874"
        ],
        [
         "38",
         "nm0000039",
         "Deborah Kerr",
         "1921",
         "2007",
         "actress,soundtrack,archive_footage",
         "tt0049408,tt0045793,tt0039192,tt0050105"
        ],
        [
         "39",
         "nm0000040",
         "Stanley Kubrick",
         "1928",
         "1999",
         "director,writer,producer",
         "tt0062622,tt0072684,tt0066921,tt0093058"
        ],
        [
         "40",
         "nm0000041",
         "Akira Kurosawa",
         "1910",
         "1998",
         "writer,director,assistant_director",
         "tt0051808,tt0089881,tt0080979,tt0057565"
        ],
        [
         "41",
         "nm0000042",
         "Alan Ladd",
         "1913",
         "1964",
         "actor,producer,camera_department",
         "tt0046303,tt0035432,tt0034798,tt0038369"
        ],
        [
         "42",
         "nm0000043",
         "Veronica Lake",
         "1922",
         "1973",
         "actress,producer,soundtrack",
         "tt0034240,tt0038369,tt0035432,tt0034881"
        ],
        [
         "43",
         "nm0000044",
         "Burt Lancaster",
         "1913",
         "1994",
         "actor,producer,miscellaneous",
         "tt0045793,tt0085859,tt0040823,tt0051036"
        ],
        [
         "44",
         "nm0000045",
         "Bruce Lee",
         "1940",
         "1973",
         "actor,writer,miscellaneous",
         "tt0068767,tt0068935,tt0070034,tt0067824"
        ],
        [
         "45",
         "nm0000046",
         "Vivien Leigh",
         "1913",
         "1967",
         "actress,writer,soundtrack",
         "tt0044081,tt0031381,tt0033238,tt0034272"
        ],
        [
         "46",
         "nm0000047",
         "Sophia Loren",
         "1934",
         null,
         "actress,soundtrack,archive_footage",
         "tt0054749,tt0060121,tt0058335,tt0076085"
        ],
        [
         "47",
         "nm0000048",
         "Peter Lorre",
         "1904",
         "1964",
         "actor,writer,director",
         "tt0036613,tt0022100,tt0034583,tt0033870"
        ],
        [
         "48",
         "nm0000049",
         "Henry Mancini",
         "1924",
         "1994",
         "music_department,composer,actor",
         "tt0054698,tt0085101,tt0057413,tt0383216"
        ],
        [
         "49",
         "nm0000050",
         "Groucho Marx",
         "1890",
         "1977",
         "actor,writer,director",
         "tt0026778,tt0031060,tt0023027,tt0023969"
        ]
       ],
       "shape": {
        "columns": 6,
        "rows": 14262557
       }
      },
      "text/html": [
       "<div>\n",
       "<style scoped>\n",
       "    .dataframe tbody tr th:only-of-type {\n",
       "        vertical-align: middle;\n",
       "    }\n",
       "\n",
       "    .dataframe tbody tr th {\n",
       "        vertical-align: top;\n",
       "    }\n",
       "\n",
       "    .dataframe thead th {\n",
       "        text-align: right;\n",
       "    }\n",
       "</style>\n",
       "<table border=\"1\" class=\"dataframe\">\n",
       "  <thead>\n",
       "    <tr style=\"text-align: right;\">\n",
       "      <th></th>\n",
       "      <th>nconst</th>\n",
       "      <th>primaryName</th>\n",
       "      <th>birthYear</th>\n",
       "      <th>deathYear</th>\n",
       "      <th>primaryProfession</th>\n",
       "      <th>knownForTitles</th>\n",
       "    </tr>\n",
       "  </thead>\n",
       "  <tbody>\n",
       "    <tr>\n",
       "      <th>0</th>\n",
       "      <td>nm0000001</td>\n",
       "      <td>Fred Astaire</td>\n",
       "      <td>1899</td>\n",
       "      <td>1987</td>\n",
       "      <td>actor,miscellaneous,producer</td>\n",
       "      <td>tt0072308,tt0050419,tt0027125,tt0031983</td>\n",
       "    </tr>\n",
       "    <tr>\n",
       "      <th>1</th>\n",
       "      <td>nm0000002</td>\n",
       "      <td>Lauren Bacall</td>\n",
       "      <td>1924</td>\n",
       "      <td>2014</td>\n",
       "      <td>actress,soundtrack,archive_footage</td>\n",
       "      <td>tt0037382,tt0075213,tt0038355,tt0117057</td>\n",
       "    </tr>\n",
       "    <tr>\n",
       "      <th>2</th>\n",
       "      <td>nm0000003</td>\n",
       "      <td>Brigitte Bardot</td>\n",
       "      <td>1934</td>\n",
       "      <td>NaN</td>\n",
       "      <td>actress,music_department,producer</td>\n",
       "      <td>tt0057345,tt0049189,tt0056404,tt0054452</td>\n",
       "    </tr>\n",
       "    <tr>\n",
       "      <th>3</th>\n",
       "      <td>nm0000004</td>\n",
       "      <td>John Belushi</td>\n",
       "      <td>1949</td>\n",
       "      <td>1982</td>\n",
       "      <td>actor,writer,music_department</td>\n",
       "      <td>tt0072562,tt0077975,tt0080455,tt0078723</td>\n",
       "    </tr>\n",
       "    <tr>\n",
       "      <th>4</th>\n",
       "      <td>nm0000005</td>\n",
       "      <td>Ingmar Bergman</td>\n",
       "      <td>1918</td>\n",
       "      <td>2007</td>\n",
       "      <td>writer,director,actor</td>\n",
       "      <td>tt0050986,tt0069467,tt0050976,tt0083922</td>\n",
       "    </tr>\n",
       "    <tr>\n",
       "      <th>...</th>\n",
       "      <td>...</td>\n",
       "      <td>...</td>\n",
       "      <td>...</td>\n",
       "      <td>...</td>\n",
       "      <td>...</td>\n",
       "      <td>...</td>\n",
       "    </tr>\n",
       "    <tr>\n",
       "      <th>14262552</th>\n",
       "      <td>nm9993714</td>\n",
       "      <td>Romeo del Rosario</td>\n",
       "      <td>\\N</td>\n",
       "      <td>NaN</td>\n",
       "      <td>animation_department,art_department</td>\n",
       "      <td>tt11657662,tt14069590,tt2455546</td>\n",
       "    </tr>\n",
       "    <tr>\n",
       "      <th>14262553</th>\n",
       "      <td>nm9993716</td>\n",
       "      <td>Essias Loberg</td>\n",
       "      <td>\\N</td>\n",
       "      <td>NaN</td>\n",
       "      <td>\\N</td>\n",
       "      <td>\\N</td>\n",
       "    </tr>\n",
       "    <tr>\n",
       "      <th>14262554</th>\n",
       "      <td>nm9993717</td>\n",
       "      <td>Harikrishnan Rajan</td>\n",
       "      <td>\\N</td>\n",
       "      <td>NaN</td>\n",
       "      <td>cinematographer</td>\n",
       "      <td>tt8736744</td>\n",
       "    </tr>\n",
       "    <tr>\n",
       "      <th>14262555</th>\n",
       "      <td>nm9993718</td>\n",
       "      <td>Aayush Nair</td>\n",
       "      <td>\\N</td>\n",
       "      <td>NaN</td>\n",
       "      <td>cinematographer</td>\n",
       "      <td>tt8736744</td>\n",
       "    </tr>\n",
       "    <tr>\n",
       "      <th>14262556</th>\n",
       "      <td>nm9993719</td>\n",
       "      <td>Andre Hill</td>\n",
       "      <td>\\N</td>\n",
       "      <td>NaN</td>\n",
       "      <td>\\N</td>\n",
       "      <td>\\N</td>\n",
       "    </tr>\n",
       "  </tbody>\n",
       "</table>\n",
       "<p>14262557 rows × 6 columns</p>\n",
       "</div>"
      ],
      "text/plain": [
       "             nconst         primaryName birthYear deathYear  \\\n",
       "0         nm0000001        Fred Astaire      1899      1987   \n",
       "1         nm0000002       Lauren Bacall      1924      2014   \n",
       "2         nm0000003     Brigitte Bardot      1934       NaN   \n",
       "3         nm0000004        John Belushi      1949      1982   \n",
       "4         nm0000005      Ingmar Bergman      1918      2007   \n",
       "...             ...                 ...       ...       ...   \n",
       "14262552  nm9993714   Romeo del Rosario        \\N       NaN   \n",
       "14262553  nm9993716       Essias Loberg        \\N       NaN   \n",
       "14262554  nm9993717  Harikrishnan Rajan        \\N       NaN   \n",
       "14262555  nm9993718         Aayush Nair        \\N       NaN   \n",
       "14262556  nm9993719          Andre Hill        \\N       NaN   \n",
       "\n",
       "                            primaryProfession  \\\n",
       "0                actor,miscellaneous,producer   \n",
       "1          actress,soundtrack,archive_footage   \n",
       "2           actress,music_department,producer   \n",
       "3               actor,writer,music_department   \n",
       "4                       writer,director,actor   \n",
       "...                                       ...   \n",
       "14262552  animation_department,art_department   \n",
       "14262553                                   \\N   \n",
       "14262554                      cinematographer   \n",
       "14262555                      cinematographer   \n",
       "14262556                                   \\N   \n",
       "\n",
       "                                   knownForTitles  \n",
       "0         tt0072308,tt0050419,tt0027125,tt0031983  \n",
       "1         tt0037382,tt0075213,tt0038355,tt0117057  \n",
       "2         tt0057345,tt0049189,tt0056404,tt0054452  \n",
       "3         tt0072562,tt0077975,tt0080455,tt0078723  \n",
       "4         tt0050986,tt0069467,tt0050976,tt0083922  \n",
       "...                                           ...  \n",
       "14262552          tt11657662,tt14069590,tt2455546  \n",
       "14262553                                       \\N  \n",
       "14262554                                tt8736744  \n",
       "14262555                                tt8736744  \n",
       "14262556                                       \\N  \n",
       "\n",
       "[14262557 rows x 6 columns]"
      ]
     },
     "execution_count": 4,
     "metadata": {},
     "output_type": "execute_result"
    }
   ],
   "source": [
    "'''\n",
    "-- 23032025 - hieudd - Xóa 9 dòng chứa primaryName bị null\n",
    "-- 23032025 - hieudd - Tách data thành 3 bảng: info, profession, fntitle\n",
    "'''\n",
    "name_raw = pd.read_csv(os.path.join(dataset_path,'name.basics.tsv'),sep=\"\\t\")\n",
    "name_raw['deathYear'] = name_raw['deathYear'].replace(r'\\N', np.nan)\n",
    "name_raw = name_raw[name_raw['primaryName'].isnull()==False]\n",
    "name_raw.reset_index(drop=True,inplace=True)\n",
    "\n",
    "name_info = name_raw[['nconst','primaryName','birthYear','deathYear']]                  # Phân vùng bảng name_info đẩy thằng vào DB - Dữ liệu clean\n",
    "name_info"
   ]
  },
  {
   "cell_type": "code",
   "execution_count": null,
   "metadata": {},
   "outputs": [
    {
     "data": {
      "application/vnd.microsoft.datawrangler.viewer.v0+json": {
       "columns": [
        {
         "name": "index",
         "rawType": "int64",
         "type": "integer"
        },
        {
         "name": "nconst",
         "rawType": "object",
         "type": "string"
        },
        {
         "name": "primaryName",
         "rawType": "object",
         "type": "string"
        },
        {
         "name": "birthYear",
         "rawType": "object",
         "type": "string"
        },
        {
         "name": "deathYear",
         "rawType": "object",
         "type": "unknown"
        }
       ],
       "conversionMethod": "pd.DataFrame",
       "ref": "8a582f98-1d77-4c62-bf6c-024d27130196",
       "rows": [
        [
         "0",
         "nm0000001",
         "Fred Astaire",
         "1899",
         "1987"
        ],
        [
         "1",
         "nm0000002",
         "Lauren Bacall",
         "1924",
         "2014"
        ],
        [
         "2",
         "nm0000003",
         "Brigitte Bardot",
         "1934",
         null
        ],
        [
         "3",
         "nm0000004",
         "John Belushi",
         "1949",
         "1982"
        ],
        [
         "4",
         "nm0000005",
         "Ingmar Bergman",
         "1918",
         "2007"
        ],
        [
         "5",
         "nm0000006",
         "Ingrid Bergman",
         "1915",
         "1982"
        ],
        [
         "6",
         "nm0000007",
         "Humphrey Bogart",
         "1899",
         "1957"
        ],
        [
         "7",
         "nm0000008",
         "Marlon Brando",
         "1924",
         "2004"
        ],
        [
         "8",
         "nm0000009",
         "Richard Burton",
         "1925",
         "1984"
        ],
        [
         "9",
         "nm0000010",
         "James Cagney",
         "1899",
         "1986"
        ],
        [
         "10",
         "nm0000011",
         "Gary Cooper",
         "1901",
         "1961"
        ],
        [
         "11",
         "nm0000012",
         "Bette Davis",
         "1908",
         "1989"
        ],
        [
         "12",
         "nm0000013",
         "Doris Day",
         "1922",
         "2019"
        ],
        [
         "13",
         "nm0000014",
         "Olivia de Havilland",
         "1916",
         "2020"
        ],
        [
         "14",
         "nm0000015",
         "James Dean",
         "1931",
         "1955"
        ],
        [
         "15",
         "nm0000016",
         "Georges Delerue",
         "1925",
         "1992"
        ],
        [
         "16",
         "nm0000017",
         "Marlene Dietrich",
         "1901",
         "1992"
        ],
        [
         "17",
         "nm0000018",
         "Kirk Douglas",
         "1916",
         "2020"
        ],
        [
         "18",
         "nm0000019",
         "Federico Fellini",
         "1920",
         "1993"
        ],
        [
         "19",
         "nm0000020",
         "Henry Fonda",
         "1905",
         "1982"
        ],
        [
         "20",
         "nm0000021",
         "Joan Fontaine",
         "1917",
         "2013"
        ],
        [
         "21",
         "nm0000022",
         "Clark Gable",
         "1901",
         "1960"
        ],
        [
         "22",
         "nm0000023",
         "Judy Garland",
         "1922",
         "1969"
        ],
        [
         "23",
         "nm0000024",
         "John Gielgud",
         "1904",
         "2000"
        ],
        [
         "24",
         "nm0000025",
         "Jerry Goldsmith",
         "1929",
         "2004"
        ],
        [
         "25",
         "nm0000026",
         "Cary Grant",
         "1904",
         "1986"
        ],
        [
         "26",
         "nm0000027",
         "Alec Guinness",
         "1914",
         "2000"
        ],
        [
         "27",
         "nm0000028",
         "Rita Hayworth",
         "1918",
         "1987"
        ],
        [
         "28",
         "nm0000029",
         "Margaux Hemingway",
         "1954",
         "1996"
        ],
        [
         "29",
         "nm0000030",
         "Audrey Hepburn",
         "1929",
         "1993"
        ],
        [
         "30",
         "nm0000031",
         "Katharine Hepburn",
         "1907",
         "2003"
        ],
        [
         "31",
         "nm0000032",
         "Charlton Heston",
         "1923",
         "2008"
        ],
        [
         "32",
         "nm0000033",
         "Alfred Hitchcock",
         "1899",
         "1980"
        ],
        [
         "33",
         "nm0000034",
         "William Holden",
         "1918",
         "1981"
        ],
        [
         "34",
         "nm0000035",
         "James Horner",
         "1953",
         "2015"
        ],
        [
         "35",
         "nm0000036",
         "Buster Keaton",
         "1895",
         "1966"
        ],
        [
         "36",
         "nm0000037",
         "Gene Kelly",
         "1912",
         "1996"
        ],
        [
         "37",
         "nm0000038",
         "Grace Kelly",
         "1929",
         "1982"
        ],
        [
         "38",
         "nm0000039",
         "Deborah Kerr",
         "1921",
         "2007"
        ],
        [
         "39",
         "nm0000040",
         "Stanley Kubrick",
         "1928",
         "1999"
        ],
        [
         "40",
         "nm0000041",
         "Akira Kurosawa",
         "1910",
         "1998"
        ],
        [
         "41",
         "nm0000042",
         "Alan Ladd",
         "1913",
         "1964"
        ],
        [
         "42",
         "nm0000043",
         "Veronica Lake",
         "1922",
         "1973"
        ],
        [
         "43",
         "nm0000044",
         "Burt Lancaster",
         "1913",
         "1994"
        ],
        [
         "44",
         "nm0000045",
         "Bruce Lee",
         "1940",
         "1973"
        ],
        [
         "45",
         "nm0000046",
         "Vivien Leigh",
         "1913",
         "1967"
        ],
        [
         "46",
         "nm0000047",
         "Sophia Loren",
         "1934",
         null
        ],
        [
         "47",
         "nm0000048",
         "Peter Lorre",
         "1904",
         "1964"
        ],
        [
         "48",
         "nm0000049",
         "Henry Mancini",
         "1924",
         "1994"
        ],
        [
         "49",
         "nm0000050",
         "Groucho Marx",
         "1890",
         "1977"
        ]
       ],
       "shape": {
        "columns": 4,
        "rows": 14262557
       }
      },
      "text/html": [
       "<div>\n",
       "<style scoped>\n",
       "    .dataframe tbody tr th:only-of-type {\n",
       "        vertical-align: middle;\n",
       "    }\n",
       "\n",
       "    .dataframe tbody tr th {\n",
       "        vertical-align: top;\n",
       "    }\n",
       "\n",
       "    .dataframe thead th {\n",
       "        text-align: right;\n",
       "    }\n",
       "</style>\n",
       "<table border=\"1\" class=\"dataframe\">\n",
       "  <thead>\n",
       "    <tr style=\"text-align: right;\">\n",
       "      <th></th>\n",
       "      <th>nconst</th>\n",
       "      <th>primaryName</th>\n",
       "      <th>birthYear</th>\n",
       "      <th>deathYear</th>\n",
       "    </tr>\n",
       "  </thead>\n",
       "  <tbody>\n",
       "    <tr>\n",
       "      <th>0</th>\n",
       "      <td>nm0000001</td>\n",
       "      <td>Fred Astaire</td>\n",
       "      <td>1899</td>\n",
       "      <td>1987</td>\n",
       "    </tr>\n",
       "    <tr>\n",
       "      <th>1</th>\n",
       "      <td>nm0000002</td>\n",
       "      <td>Lauren Bacall</td>\n",
       "      <td>1924</td>\n",
       "      <td>2014</td>\n",
       "    </tr>\n",
       "    <tr>\n",
       "      <th>2</th>\n",
       "      <td>nm0000003</td>\n",
       "      <td>Brigitte Bardot</td>\n",
       "      <td>1934</td>\n",
       "      <td>NaN</td>\n",
       "    </tr>\n",
       "    <tr>\n",
       "      <th>3</th>\n",
       "      <td>nm0000004</td>\n",
       "      <td>John Belushi</td>\n",
       "      <td>1949</td>\n",
       "      <td>1982</td>\n",
       "    </tr>\n",
       "    <tr>\n",
       "      <th>4</th>\n",
       "      <td>nm0000005</td>\n",
       "      <td>Ingmar Bergman</td>\n",
       "      <td>1918</td>\n",
       "      <td>2007</td>\n",
       "    </tr>\n",
       "    <tr>\n",
       "      <th>...</th>\n",
       "      <td>...</td>\n",
       "      <td>...</td>\n",
       "      <td>...</td>\n",
       "      <td>...</td>\n",
       "    </tr>\n",
       "    <tr>\n",
       "      <th>14262552</th>\n",
       "      <td>nm9993714</td>\n",
       "      <td>Romeo del Rosario</td>\n",
       "      <td>\\N</td>\n",
       "      <td>NaN</td>\n",
       "    </tr>\n",
       "    <tr>\n",
       "      <th>14262553</th>\n",
       "      <td>nm9993716</td>\n",
       "      <td>Essias Loberg</td>\n",
       "      <td>\\N</td>\n",
       "      <td>NaN</td>\n",
       "    </tr>\n",
       "    <tr>\n",
       "      <th>14262554</th>\n",
       "      <td>nm9993717</td>\n",
       "      <td>Harikrishnan Rajan</td>\n",
       "      <td>\\N</td>\n",
       "      <td>NaN</td>\n",
       "    </tr>\n",
       "    <tr>\n",
       "      <th>14262555</th>\n",
       "      <td>nm9993718</td>\n",
       "      <td>Aayush Nair</td>\n",
       "      <td>\\N</td>\n",
       "      <td>NaN</td>\n",
       "    </tr>\n",
       "    <tr>\n",
       "      <th>14262556</th>\n",
       "      <td>nm9993719</td>\n",
       "      <td>Andre Hill</td>\n",
       "      <td>\\N</td>\n",
       "      <td>NaN</td>\n",
       "    </tr>\n",
       "  </tbody>\n",
       "</table>\n",
       "<p>14262557 rows × 4 columns</p>\n",
       "</div>"
      ],
      "text/plain": [
       "             nconst         primaryName birthYear deathYear\n",
       "0         nm0000001        Fred Astaire      1899      1987\n",
       "1         nm0000002       Lauren Bacall      1924      2014\n",
       "2         nm0000003     Brigitte Bardot      1934       NaN\n",
       "3         nm0000004        John Belushi      1949      1982\n",
       "4         nm0000005      Ingmar Bergman      1918      2007\n",
       "...             ...                 ...       ...       ...\n",
       "14262552  nm9993714   Romeo del Rosario        \\N       NaN\n",
       "14262553  nm9993716       Essias Loberg        \\N       NaN\n",
       "14262554  nm9993717  Harikrishnan Rajan        \\N       NaN\n",
       "14262555  nm9993718         Aayush Nair        \\N       NaN\n",
       "14262556  nm9993719          Andre Hill        \\N       NaN\n",
       "\n",
       "[14262557 rows x 4 columns]"
      ]
     },
     "execution_count": 5,
     "metadata": {},
     "output_type": "execute_result"
    }
   ],
   "source": []
  },
  {
   "cell_type": "code",
   "execution_count": null,
   "metadata": {},
   "outputs": [
    {
     "data": {
      "text/html": [
       "<div><strong>Dask DataFrame Structure:</strong></div>\n",
       "<table border=\"1\" class=\"dataframe\">\n",
       "  <thead>\n",
       "    <tr style=\"text-align: right;\">\n",
       "      <th></th>\n",
       "      <th>profession1</th>\n",
       "      <th>profession2</th>\n",
       "      <th>profession3</th>\n",
       "    </tr>\n",
       "    <tr>\n",
       "      <th>npartitions=20</th>\n",
       "      <th></th>\n",
       "      <th></th>\n",
       "      <th></th>\n",
       "    </tr>\n",
       "  </thead>\n",
       "  <tbody>\n",
       "    <tr>\n",
       "      <th>0</th>\n",
       "      <td>object</td>\n",
       "      <td>object</td>\n",
       "      <td>object</td>\n",
       "    </tr>\n",
       "    <tr>\n",
       "      <th>713128</th>\n",
       "      <td>...</td>\n",
       "      <td>...</td>\n",
       "      <td>...</td>\n",
       "    </tr>\n",
       "    <tr>\n",
       "      <th>...</th>\n",
       "      <td>...</td>\n",
       "      <td>...</td>\n",
       "      <td>...</td>\n",
       "    </tr>\n",
       "    <tr>\n",
       "      <th>13549430</th>\n",
       "      <td>...</td>\n",
       "      <td>...</td>\n",
       "      <td>...</td>\n",
       "    </tr>\n",
       "    <tr>\n",
       "      <th>14262556</th>\n",
       "      <td>...</td>\n",
       "      <td>...</td>\n",
       "      <td>...</td>\n",
       "    </tr>\n",
       "  </tbody>\n",
       "</table>\n",
       "<div>Dask Name: apply, 4 expressions</div>"
      ],
      "text/plain": [
       "Dask DataFrame Structure:\n",
       "               profession1 profession2 profession3\n",
       "npartitions=20                                    \n",
       "0                   object      object      object\n",
       "713128                 ...         ...         ...\n",
       "...                    ...         ...         ...\n",
       "13549430               ...         ...         ...\n",
       "14262556               ...         ...         ...\n",
       "Dask Name: apply, 4 expressions\n",
       "Expr=Apply(frame=Apply(frame=df['primaryProfession'], function=<function <lambda> at 0x0000017D02F4BE20>, meta=('x', 'object')), function=<class 'pandas.core.series.Series'>, meta={'profession1': <class 'str'>, 'profession2': <class 'str'>, 'profession3': <class 'str'>})"
      ]
     },
     "execution_count": 20,
     "metadata": {},
     "output_type": "execute_result"
    }
   ],
   "source": [
    "# name_profession = name_raw[['nconst','primaryProfession']]\n",
    "name_prof_dask = dd.from_pandas(name_raw[['nconst','primaryProfession']], npartitions=20)                       # Tạo dask dataframe từ dataframe pandas với 20 phân vùng bộ nhớ đệm (npartitions)\n",
    "df_expanded = name_prof_dask['primaryProfession'].apply(lambda x: x.split(','), meta=('x', 'object'))           # sử dụng apply() tách theo dấu , với dask dataframe - không giữ danh sách trong RAM\n",
    "df_expanded = df_expanded.apply(pd.Series, meta={'profession1':str,'profession2':str,'profession3':str})        # chuyển \n",
    "df_expanded\n",
    "# type(name_prof_dask)\n",
    "# name_prof_dask"
   ]
  },
  {
   "cell_type": "code",
   "execution_count": null,
   "metadata": {},
   "outputs": [
    {
     "data": {
      "text/plain": [
       "Dask Series Structure:\n",
       "npartitions=20\n",
       "0           object\n",
       "713128         ...\n",
       "             ...  \n",
       "13549430       ...\n",
       "14262556       ...\n",
       "Dask Name: apply, 3 expressions\n",
       "Expr=Apply(frame=df['primaryProfession'], function=<function <lambda> at 0x0000017D4D788E50>, meta=('x', 'object'))"
      ]
     },
     "execution_count": 15,
     "metadata": {},
     "output_type": "execute_result"
    }
   ],
   "source": [
    "df_expanded = name_prof_dask['primaryProfession'].apply(lambda x: x.split(','), meta=('x', 'object'))\n",
    "df_expanded = df_expanded.apply(pd.Series, meta={0: str, 1: str, 2: str})\n",
    "df_expanded"
   ]
  },
  {
   "cell_type": "code",
   "execution_count": null,
   "metadata": {},
   "outputs": [
    {
     "ename": "TypeError",
     "evalue": "<lambda>() got an unexpected keyword argument 'meta'",
     "output_type": "error",
     "traceback": [
      "\u001b[1;31m---------------------------------------------------------------------------\u001b[0m",
      "\u001b[1;31mTypeError\u001b[0m                                 Traceback (most recent call last)",
      "Cell \u001b[1;32mIn[7], line 1\u001b[0m\n\u001b[1;32m----> 1\u001b[0m name_profession_1P \u001b[38;5;241m=\u001b[39m \u001b[43mname_profession\u001b[49m\u001b[43m[\u001b[49m\u001b[38;5;124;43m'\u001b[39;49m\u001b[38;5;124;43mprimaryProfession\u001b[39;49m\u001b[38;5;124;43m'\u001b[39;49m\u001b[43m]\u001b[49m\u001b[38;5;241;43m.\u001b[39;49m\u001b[43mapply\u001b[49m\u001b[43m(\u001b[49m\u001b[38;5;28;43;01mlambda\u001b[39;49;00m\u001b[43m \u001b[49m\u001b[43mx\u001b[49m\u001b[43m:\u001b[49m\u001b[43m \u001b[49m\u001b[43mx\u001b[49m\u001b[38;5;241;43m.\u001b[39;49m\u001b[43msplit\u001b[49m\u001b[43m(\u001b[49m\u001b[38;5;124;43m'\u001b[39;49m\u001b[38;5;124;43m,\u001b[39;49m\u001b[38;5;124;43m'\u001b[39;49m\u001b[43m)\u001b[49m\u001b[43m,\u001b[49m\u001b[43m \u001b[49m\u001b[43mmeta\u001b[49m\u001b[38;5;241;43m=\u001b[39;49m\u001b[43m(\u001b[49m\u001b[38;5;124;43m'\u001b[39;49m\u001b[38;5;124;43mx\u001b[39;49m\u001b[38;5;124;43m'\u001b[39;49m\u001b[43m,\u001b[49m\u001b[43m \u001b[49m\u001b[38;5;124;43m'\u001b[39;49m\u001b[38;5;124;43mobject\u001b[39;49m\u001b[38;5;124;43m'\u001b[39;49m\u001b[43m)\u001b[49m\u001b[43m)\u001b[49m\n\u001b[0;32m      2\u001b[0m name_profession_1P\n",
      "File \u001b[1;32mc:\\Users\\LENOVO\\Envs\\DK-local\\lib\\site-packages\\pandas\\core\\series.py:4904\u001b[0m, in \u001b[0;36mSeries.apply\u001b[1;34m(self, func, convert_dtype, args, by_row, **kwargs)\u001b[0m\n\u001b[0;32m   4769\u001b[0m \u001b[38;5;28;01mdef\u001b[39;00m \u001b[38;5;21mapply\u001b[39m(\n\u001b[0;32m   4770\u001b[0m     \u001b[38;5;28mself\u001b[39m,\n\u001b[0;32m   4771\u001b[0m     func: AggFuncType,\n\u001b[1;32m   (...)\u001b[0m\n\u001b[0;32m   4776\u001b[0m     \u001b[38;5;241m*\u001b[39m\u001b[38;5;241m*\u001b[39mkwargs,\n\u001b[0;32m   4777\u001b[0m ) \u001b[38;5;241m-\u001b[39m\u001b[38;5;241m>\u001b[39m DataFrame \u001b[38;5;241m|\u001b[39m Series:\n\u001b[0;32m   4778\u001b[0m \u001b[38;5;250m    \u001b[39m\u001b[38;5;124;03m\"\"\"\u001b[39;00m\n\u001b[0;32m   4779\u001b[0m \u001b[38;5;124;03m    Invoke function on values of Series.\u001b[39;00m\n\u001b[0;32m   4780\u001b[0m \n\u001b[1;32m   (...)\u001b[0m\n\u001b[0;32m   4895\u001b[0m \u001b[38;5;124;03m    dtype: float64\u001b[39;00m\n\u001b[0;32m   4896\u001b[0m \u001b[38;5;124;03m    \"\"\"\u001b[39;00m\n\u001b[0;32m   4897\u001b[0m     \u001b[38;5;28;01mreturn\u001b[39;00m \u001b[43mSeriesApply\u001b[49m\u001b[43m(\u001b[49m\n\u001b[0;32m   4898\u001b[0m \u001b[43m        \u001b[49m\u001b[38;5;28;43mself\u001b[39;49m\u001b[43m,\u001b[49m\n\u001b[0;32m   4899\u001b[0m \u001b[43m        \u001b[49m\u001b[43mfunc\u001b[49m\u001b[43m,\u001b[49m\n\u001b[0;32m   4900\u001b[0m \u001b[43m        \u001b[49m\u001b[43mconvert_dtype\u001b[49m\u001b[38;5;241;43m=\u001b[39;49m\u001b[43mconvert_dtype\u001b[49m\u001b[43m,\u001b[49m\n\u001b[0;32m   4901\u001b[0m \u001b[43m        \u001b[49m\u001b[43mby_row\u001b[49m\u001b[38;5;241;43m=\u001b[39;49m\u001b[43mby_row\u001b[49m\u001b[43m,\u001b[49m\n\u001b[0;32m   4902\u001b[0m \u001b[43m        \u001b[49m\u001b[43margs\u001b[49m\u001b[38;5;241;43m=\u001b[39;49m\u001b[43margs\u001b[49m\u001b[43m,\u001b[49m\n\u001b[0;32m   4903\u001b[0m \u001b[43m        \u001b[49m\u001b[43mkwargs\u001b[49m\u001b[38;5;241;43m=\u001b[39;49m\u001b[43mkwargs\u001b[49m\u001b[43m,\u001b[49m\n\u001b[1;32m-> 4904\u001b[0m \u001b[43m    \u001b[49m\u001b[43m)\u001b[49m\u001b[38;5;241;43m.\u001b[39;49m\u001b[43mapply\u001b[49m\u001b[43m(\u001b[49m\u001b[43m)\u001b[49m\n",
      "File \u001b[1;32mc:\\Users\\LENOVO\\Envs\\DK-local\\lib\\site-packages\\pandas\\core\\apply.py:1427\u001b[0m, in \u001b[0;36mSeriesApply.apply\u001b[1;34m(self)\u001b[0m\n\u001b[0;32m   1424\u001b[0m     \u001b[38;5;28;01mreturn\u001b[39;00m \u001b[38;5;28mself\u001b[39m\u001b[38;5;241m.\u001b[39mapply_compat()\n\u001b[0;32m   1426\u001b[0m \u001b[38;5;66;03m# self.func is Callable\u001b[39;00m\n\u001b[1;32m-> 1427\u001b[0m \u001b[38;5;28;01mreturn\u001b[39;00m \u001b[38;5;28;43mself\u001b[39;49m\u001b[38;5;241;43m.\u001b[39;49m\u001b[43mapply_standard\u001b[49m\u001b[43m(\u001b[49m\u001b[43m)\u001b[49m\n",
      "File \u001b[1;32mc:\\Users\\LENOVO\\Envs\\DK-local\\lib\\site-packages\\pandas\\core\\apply.py:1507\u001b[0m, in \u001b[0;36mSeriesApply.apply_standard\u001b[1;34m(self)\u001b[0m\n\u001b[0;32m   1501\u001b[0m \u001b[38;5;66;03m# row-wise access\u001b[39;00m\n\u001b[0;32m   1502\u001b[0m \u001b[38;5;66;03m# apply doesn't have a `na_action` keyword and for backward compat reasons\u001b[39;00m\n\u001b[0;32m   1503\u001b[0m \u001b[38;5;66;03m# we need to give `na_action=\"ignore\"` for categorical data.\u001b[39;00m\n\u001b[0;32m   1504\u001b[0m \u001b[38;5;66;03m# TODO: remove the `na_action=\"ignore\"` when that default has been changed in\u001b[39;00m\n\u001b[0;32m   1505\u001b[0m \u001b[38;5;66;03m#  Categorical (GH51645).\u001b[39;00m\n\u001b[0;32m   1506\u001b[0m action \u001b[38;5;241m=\u001b[39m \u001b[38;5;124m\"\u001b[39m\u001b[38;5;124mignore\u001b[39m\u001b[38;5;124m\"\u001b[39m \u001b[38;5;28;01mif\u001b[39;00m \u001b[38;5;28misinstance\u001b[39m(obj\u001b[38;5;241m.\u001b[39mdtype, CategoricalDtype) \u001b[38;5;28;01melse\u001b[39;00m \u001b[38;5;28;01mNone\u001b[39;00m\n\u001b[1;32m-> 1507\u001b[0m mapped \u001b[38;5;241m=\u001b[39m \u001b[43mobj\u001b[49m\u001b[38;5;241;43m.\u001b[39;49m\u001b[43m_map_values\u001b[49m\u001b[43m(\u001b[49m\n\u001b[0;32m   1508\u001b[0m \u001b[43m    \u001b[49m\u001b[43mmapper\u001b[49m\u001b[38;5;241;43m=\u001b[39;49m\u001b[43mcurried\u001b[49m\u001b[43m,\u001b[49m\u001b[43m \u001b[49m\u001b[43mna_action\u001b[49m\u001b[38;5;241;43m=\u001b[39;49m\u001b[43maction\u001b[49m\u001b[43m,\u001b[49m\u001b[43m \u001b[49m\u001b[43mconvert\u001b[49m\u001b[38;5;241;43m=\u001b[39;49m\u001b[38;5;28;43mself\u001b[39;49m\u001b[38;5;241;43m.\u001b[39;49m\u001b[43mconvert_dtype\u001b[49m\n\u001b[0;32m   1509\u001b[0m \u001b[43m\u001b[49m\u001b[43m)\u001b[49m\n\u001b[0;32m   1511\u001b[0m \u001b[38;5;28;01mif\u001b[39;00m \u001b[38;5;28mlen\u001b[39m(mapped) \u001b[38;5;129;01mand\u001b[39;00m \u001b[38;5;28misinstance\u001b[39m(mapped[\u001b[38;5;241m0\u001b[39m], ABCSeries):\n\u001b[0;32m   1512\u001b[0m     \u001b[38;5;66;03m# GH#43986 Need to do list(mapped) in order to get treated as nested\u001b[39;00m\n\u001b[0;32m   1513\u001b[0m     \u001b[38;5;66;03m#  See also GH#25959 regarding EA support\u001b[39;00m\n\u001b[0;32m   1514\u001b[0m     \u001b[38;5;28;01mreturn\u001b[39;00m obj\u001b[38;5;241m.\u001b[39m_constructor_expanddim(\u001b[38;5;28mlist\u001b[39m(mapped), index\u001b[38;5;241m=\u001b[39mobj\u001b[38;5;241m.\u001b[39mindex)\n",
      "File \u001b[1;32mc:\\Users\\LENOVO\\Envs\\DK-local\\lib\\site-packages\\pandas\\core\\base.py:921\u001b[0m, in \u001b[0;36mIndexOpsMixin._map_values\u001b[1;34m(self, mapper, na_action, convert)\u001b[0m\n\u001b[0;32m    918\u001b[0m \u001b[38;5;28;01mif\u001b[39;00m \u001b[38;5;28misinstance\u001b[39m(arr, ExtensionArray):\n\u001b[0;32m    919\u001b[0m     \u001b[38;5;28;01mreturn\u001b[39;00m arr\u001b[38;5;241m.\u001b[39mmap(mapper, na_action\u001b[38;5;241m=\u001b[39mna_action)\n\u001b[1;32m--> 921\u001b[0m \u001b[38;5;28;01mreturn\u001b[39;00m \u001b[43malgorithms\u001b[49m\u001b[38;5;241;43m.\u001b[39;49m\u001b[43mmap_array\u001b[49m\u001b[43m(\u001b[49m\u001b[43marr\u001b[49m\u001b[43m,\u001b[49m\u001b[43m \u001b[49m\u001b[43mmapper\u001b[49m\u001b[43m,\u001b[49m\u001b[43m \u001b[49m\u001b[43mna_action\u001b[49m\u001b[38;5;241;43m=\u001b[39;49m\u001b[43mna_action\u001b[49m\u001b[43m,\u001b[49m\u001b[43m \u001b[49m\u001b[43mconvert\u001b[49m\u001b[38;5;241;43m=\u001b[39;49m\u001b[43mconvert\u001b[49m\u001b[43m)\u001b[49m\n",
      "File \u001b[1;32mc:\\Users\\LENOVO\\Envs\\DK-local\\lib\\site-packages\\pandas\\core\\algorithms.py:1743\u001b[0m, in \u001b[0;36mmap_array\u001b[1;34m(arr, mapper, na_action, convert)\u001b[0m\n\u001b[0;32m   1741\u001b[0m values \u001b[38;5;241m=\u001b[39m arr\u001b[38;5;241m.\u001b[39mastype(\u001b[38;5;28mobject\u001b[39m, copy\u001b[38;5;241m=\u001b[39m\u001b[38;5;28;01mFalse\u001b[39;00m)\n\u001b[0;32m   1742\u001b[0m \u001b[38;5;28;01mif\u001b[39;00m na_action \u001b[38;5;129;01mis\u001b[39;00m \u001b[38;5;28;01mNone\u001b[39;00m:\n\u001b[1;32m-> 1743\u001b[0m     \u001b[38;5;28;01mreturn\u001b[39;00m \u001b[43mlib\u001b[49m\u001b[38;5;241;43m.\u001b[39;49m\u001b[43mmap_infer\u001b[49m\u001b[43m(\u001b[49m\u001b[43mvalues\u001b[49m\u001b[43m,\u001b[49m\u001b[43m \u001b[49m\u001b[43mmapper\u001b[49m\u001b[43m,\u001b[49m\u001b[43m \u001b[49m\u001b[43mconvert\u001b[49m\u001b[38;5;241;43m=\u001b[39;49m\u001b[43mconvert\u001b[49m\u001b[43m)\u001b[49m\n\u001b[0;32m   1744\u001b[0m \u001b[38;5;28;01melse\u001b[39;00m:\n\u001b[0;32m   1745\u001b[0m     \u001b[38;5;28;01mreturn\u001b[39;00m lib\u001b[38;5;241m.\u001b[39mmap_infer_mask(\n\u001b[0;32m   1746\u001b[0m         values, mapper, mask\u001b[38;5;241m=\u001b[39misna(values)\u001b[38;5;241m.\u001b[39mview(np\u001b[38;5;241m.\u001b[39muint8), convert\u001b[38;5;241m=\u001b[39mconvert\n\u001b[0;32m   1747\u001b[0m     )\n",
      "File \u001b[1;32mlib.pyx:2972\u001b[0m, in \u001b[0;36mpandas._libs.lib.map_infer\u001b[1;34m()\u001b[0m\n",
      "File \u001b[1;32mc:\\Users\\LENOVO\\Envs\\DK-local\\lib\\site-packages\\pandas\\core\\apply.py:1496\u001b[0m, in \u001b[0;36mSeriesApply.apply_standard.<locals>.curried\u001b[1;34m(x)\u001b[0m\n\u001b[0;32m   1495\u001b[0m \u001b[38;5;28;01mdef\u001b[39;00m \u001b[38;5;21mcurried\u001b[39m(x):\n\u001b[1;32m-> 1496\u001b[0m     \u001b[38;5;28;01mreturn\u001b[39;00m func(x, \u001b[38;5;241m*\u001b[39m\u001b[38;5;28mself\u001b[39m\u001b[38;5;241m.\u001b[39margs, \u001b[38;5;241m*\u001b[39m\u001b[38;5;241m*\u001b[39m\u001b[38;5;28mself\u001b[39m\u001b[38;5;241m.\u001b[39mkwargs)\n",
      "\u001b[1;31mTypeError\u001b[0m: <lambda>() got an unexpected keyword argument 'meta'"
     ]
    }
   ],
   "source": [
    "name_profession_1P = name_prof_dask['primaryProfession'].apply(lambda x: x.split(','), meta=('x', 'object'))\n",
    "name_profession_1P"
   ]
  },
  {
   "cell_type": "code",
   "execution_count": 3,
   "metadata": {},
   "outputs": [
    {
     "data": {
      "application/vnd.microsoft.datawrangler.viewer.v0+json": {
       "columns": [
        {
         "name": "index",
         "rawType": "int64",
         "type": "integer"
        },
        {
         "name": "tconst",
         "rawType": "object",
         "type": "string"
        },
        {
         "name": "titleType",
         "rawType": "object",
         "type": "string"
        },
        {
         "name": "primaryTitle",
         "rawType": "object",
         "type": "unknown"
        },
        {
         "name": "originalTitle",
         "rawType": "object",
         "type": "unknown"
        },
        {
         "name": "isAdult",
         "rawType": "object",
         "type": "unknown"
        },
        {
         "name": "startYear",
         "rawType": "object",
         "type": "string"
        },
        {
         "name": "endYear",
         "rawType": "object",
         "type": "string"
        },
        {
         "name": "runtimeMinutes",
         "rawType": "object",
         "type": "string"
        },
        {
         "name": "genres",
         "rawType": "object",
         "type": "unknown"
        }
       ],
       "conversionMethod": "pd.DataFrame",
       "ref": "ec33eb51-fb0e-4482-892d-a04f88dc0673",
       "rows": [
        [
         "0",
         "tt0000001",
         "short",
         "Carmencita",
         "Carmencita",
         "0",
         "1894",
         "\\N",
         "1",
         "Documentary,Short"
        ],
        [
         "1",
         "tt0000002",
         "short",
         "Le clown et ses chiens",
         "Le clown et ses chiens",
         "0",
         "1892",
         "\\N",
         "5",
         "Animation,Short"
        ],
        [
         "2",
         "tt0000003",
         "short",
         "Poor Pierrot",
         "Pauvre Pierrot",
         "0",
         "1892",
         "\\N",
         "5",
         "Animation,Comedy,Romance"
        ],
        [
         "3",
         "tt0000004",
         "short",
         "Un bon bock",
         "Un bon bock",
         "0",
         "1892",
         "\\N",
         "12",
         "Animation,Short"
        ],
        [
         "4",
         "tt0000005",
         "short",
         "Blacksmith Scene",
         "Blacksmith Scene",
         "0",
         "1893",
         "\\N",
         "1",
         "Short"
        ],
        [
         "5",
         "tt0000006",
         "short",
         "Chinese Opium Den",
         "Chinese Opium Den",
         "0",
         "1894",
         "\\N",
         "1",
         "Short"
        ],
        [
         "6",
         "tt0000007",
         "short",
         "Corbett and Courtney Before the Kinetograph",
         "Corbett and Courtney Before the Kinetograph",
         "0",
         "1894",
         "\\N",
         "1",
         "Short,Sport"
        ],
        [
         "7",
         "tt0000008",
         "short",
         "Edison Kinetoscopic Record of a Sneeze",
         "Edison Kinetoscopic Record of a Sneeze",
         "0",
         "1894",
         "\\N",
         "1",
         "Documentary,Short"
        ],
        [
         "8",
         "tt0000009",
         "movie",
         "Miss Jerry",
         "Miss Jerry",
         "0",
         "1894",
         "\\N",
         "45",
         "Romance"
        ],
        [
         "9",
         "tt0000010",
         "short",
         "Leaving the Factory",
         "La sortie de l'usine Lumière à Lyon",
         "0",
         "1895",
         "\\N",
         "1",
         "Documentary,Short"
        ],
        [
         "10",
         "tt0000011",
         "short",
         "Akrobatisches Potpourri",
         "Akrobatisches Potpourri",
         "0",
         "1895",
         "\\N",
         "1",
         "Documentary,Short"
        ],
        [
         "11",
         "tt0000012",
         "short",
         "The Arrival of a Train",
         "L'arrivée d'un train à La Ciotat",
         "0",
         "1896",
         "\\N",
         "1",
         "Documentary,Short"
        ],
        [
         "12",
         "tt0000013",
         "short",
         "The Photographical Congress Arrives in Lyon",
         "Le débarquement du congrès de photographie à Lyon",
         "0",
         "1895",
         "\\N",
         "1",
         "Documentary,Short"
        ],
        [
         "13",
         "tt0000014",
         "short",
         "The Waterer Watered",
         "L'arroseur arrosé",
         "0",
         "1895",
         "\\N",
         "1",
         "Comedy,Short"
        ],
        [
         "14",
         "tt0000015",
         "short",
         "Around a Cabin",
         "Autour d'une cabine",
         "0",
         "1894",
         "\\N",
         "2",
         "Animation,Comedy,Short"
        ],
        [
         "15",
         "tt0000016",
         "short",
         "Boat Leaving the Port",
         "Barque sortant du port",
         "0",
         "1895",
         "\\N",
         "1",
         "Documentary,Short"
        ],
        [
         "16",
         "tt0000017",
         "short",
         "Italienischer Bauerntanz",
         "Italienischer Bauerntanz",
         "0",
         "1895",
         "\\N",
         "1",
         "Documentary,Short"
        ],
        [
         "17",
         "tt0000018",
         "short",
         "Das boxende Känguruh",
         "Das boxende Känguruh",
         "0",
         "1895",
         "\\N",
         "1",
         "Short,Sport"
        ],
        [
         "18",
         "tt0000019",
         "short",
         "The Clown Barber",
         "The Clown Barber",
         "0",
         "1898",
         "\\N",
         "\\N",
         "Comedy,Short"
        ],
        [
         "19",
         "tt0000020",
         "short",
         "The Derby 1895",
         "The Derby 1895",
         "0",
         "1895",
         "\\N",
         "1",
         "Documentary,Short,Sport"
        ],
        [
         "20",
         "tt0000022",
         "short",
         "Blacksmith Scene",
         "Les forgerons",
         "0",
         "1895",
         "\\N",
         "1",
         "Documentary,Short"
        ],
        [
         "21",
         "tt0000023",
         "short",
         "The Sea",
         "Baignade en mer",
         "0",
         "1895",
         "\\N",
         "1",
         "Documentary,Short"
        ],
        [
         "22",
         "tt0000024",
         "short",
         "Opening of the Kiel Canal",
         "Opening of the Kiel Canal",
         "0",
         "1895",
         "\\N",
         "1",
         "News,Short"
        ],
        [
         "23",
         "tt0000025",
         "short",
         "The Oxford and Cambridge University Boat Race",
         "The Oxford and Cambridge University Boat Race",
         "0",
         "1896",
         "\\N",
         "\\N",
         "News,Short,Sport"
        ],
        [
         "24",
         "tt0000026",
         "short",
         "The Messers. Lumière at Cards",
         "Partie d'écarté",
         "0",
         "1896",
         "\\N",
         "1",
         "Documentary,Short"
        ],
        [
         "25",
         "tt0000027",
         "short",
         "Cordeliers' Square in Lyon",
         "Place des Cordeliers à Lyon",
         "0",
         "1895",
         "\\N",
         "1",
         "Documentary,Short"
        ],
        [
         "26",
         "tt0000028",
         "short",
         "Fishing for Goldfish",
         "La pêche aux poissons rouges",
         "0",
         "1895",
         "\\N",
         "1",
         "Documentary,Short"
        ],
        [
         "27",
         "tt0000029",
         "short",
         "Baby's Meal",
         "Repas de bébé",
         "0",
         "1895",
         "\\N",
         "1",
         "Documentary,Short"
        ],
        [
         "28",
         "tt0000030",
         "short",
         "Rough Sea at Dover",
         "Rough Sea at Dover",
         "0",
         "1895",
         "\\N",
         "1",
         "Documentary,Short"
        ],
        [
         "29",
         "tt0000031",
         "short",
         "Jumping the Blanket",
         "Le saut à la couverture",
         "0",
         "1895",
         "\\N",
         "1",
         "Documentary,Short"
        ],
        [
         "30",
         "tt0000032",
         "short",
         "Die Serpentintänzerin",
         "Die Serpentintänzerin",
         "0",
         "1895",
         "\\N",
         "1",
         "Short"
        ],
        [
         "31",
         "tt0000033",
         "short",
         "Horse Trick Riders",
         "La voltige",
         "0",
         "1895",
         "\\N",
         "1",
         "Comedy,Documentary,Short"
        ],
        [
         "32",
         "tt0000034",
         "short",
         "Arrivée d'un train gare de Vincennes",
         "Arrivée d'un train gare de Vincennes",
         "0",
         "1896",
         "\\N",
         "1",
         "Documentary,Short"
        ],
        [
         "33",
         "tt0000035",
         "short",
         "Watering the Flowers",
         "L'arroseur",
         "0",
         "1896",
         "\\N",
         "1",
         "Comedy,Short"
        ],
        [
         "34",
         "tt0000036",
         "short",
         "Awakening of Rip",
         "Awakening of Rip",
         "0",
         "1896",
         "\\N",
         "1",
         "Drama,Short"
        ],
        [
         "35",
         "tt0000037",
         "short",
         "Sea Bathing",
         "Baignade en mer",
         "0",
         "1896",
         "\\N",
         "1",
         "Short"
        ],
        [
         "36",
         "tt0000038",
         "short",
         "The Ball Game",
         "The Ball Game",
         "0",
         "1898",
         "\\N",
         "1",
         "Documentary,Short,Sport"
        ],
        [
         "37",
         "tt0000039",
         "short",
         "Barnet Horse Fair",
         "Barnet Horse Fair",
         "0",
         "1896",
         "\\N",
         "\\N",
         "Short"
        ],
        [
         "38",
         "tt0000040",
         "short",
         "Barque sortant du port de Trouville",
         "Barque sortant du port de Trouville",
         "0",
         "1896",
         "\\N",
         "\\N",
         "Documentary,Short"
        ],
        [
         "39",
         "tt0000041",
         "short",
         "Bataille de neige",
         "Bataille de neige",
         "0",
         "1897",
         "\\N",
         "1",
         "Comedy,Documentary,Short"
        ],
        [
         "40",
         "tt0000042",
         "short",
         "Bateau-mouche sur la Seine",
         "Bateau-mouche sur la Seine",
         "0",
         "1896",
         "\\N",
         "\\N",
         "Documentary,Short"
        ],
        [
         "41",
         "tt0000043",
         "short",
         "Batteuse à vapeur",
         "Batteuse à vapeur",
         "0",
         "1896",
         "\\N",
         "\\N",
         "Documentary,Short"
        ],
        [
         "42",
         "tt0000044",
         "short",
         "Le bivouac",
         "Le bivouac",
         "0",
         "1896",
         "\\N",
         "1",
         "Short"
        ],
        [
         "43",
         "tt0000045",
         "short",
         "Les blanchisseuses",
         "Les blanchisseuses",
         "0",
         "1896",
         "\\N",
         "\\N",
         "Short"
        ],
        [
         "44",
         "tt0000046",
         "short",
         "Bois de Boulogne",
         "Bois de Boulogne",
         "0",
         "1896",
         "\\N",
         "\\N",
         "Documentary,Short"
        ],
        [
         "45",
         "tt0000047",
         "short",
         "Boulevard des Italiens",
         "Boulevard des Italiens",
         "0",
         "1896",
         "\\N",
         "\\N",
         "Documentary,Short"
        ],
        [
         "46",
         "tt0000048",
         "short",
         "The Boxing Kangaroo",
         "The Boxing Kangaroo",
         "0",
         "1896",
         "\\N",
         "\\N",
         "Short"
        ],
        [
         "47",
         "tt0000049",
         "short",
         "Boxing Match; or, Glove Contest",
         "Boxing Match; or, Glove Contest",
         "0",
         "1896",
         "\\N",
         "\\N",
         "Short,Sport"
        ],
        [
         "48",
         "tt0000050",
         "short",
         "Bébé et fillettes",
         "Bébé et fillettes",
         "0",
         "1896",
         "\\N",
         "\\N",
         "Documentary,Short"
        ],
        [
         "49",
         "tt0000051",
         "short",
         "The Bohemian Encampment",
         "Campement de bohémiens",
         "0",
         "1896",
         "\\N",
         "\\N",
         "Documentary,Short"
        ]
       ],
       "shape": {
        "columns": 9,
        "rows": 11526095
       }
      },
      "text/html": [
       "<div>\n",
       "<style scoped>\n",
       "    .dataframe tbody tr th:only-of-type {\n",
       "        vertical-align: middle;\n",
       "    }\n",
       "\n",
       "    .dataframe tbody tr th {\n",
       "        vertical-align: top;\n",
       "    }\n",
       "\n",
       "    .dataframe thead th {\n",
       "        text-align: right;\n",
       "    }\n",
       "</style>\n",
       "<table border=\"1\" class=\"dataframe\">\n",
       "  <thead>\n",
       "    <tr style=\"text-align: right;\">\n",
       "      <th></th>\n",
       "      <th>tconst</th>\n",
       "      <th>titleType</th>\n",
       "      <th>primaryTitle</th>\n",
       "      <th>originalTitle</th>\n",
       "      <th>isAdult</th>\n",
       "      <th>startYear</th>\n",
       "      <th>endYear</th>\n",
       "      <th>runtimeMinutes</th>\n",
       "      <th>genres</th>\n",
       "    </tr>\n",
       "  </thead>\n",
       "  <tbody>\n",
       "    <tr>\n",
       "      <th>0</th>\n",
       "      <td>tt0000001</td>\n",
       "      <td>short</td>\n",
       "      <td>Carmencita</td>\n",
       "      <td>Carmencita</td>\n",
       "      <td>0</td>\n",
       "      <td>1894</td>\n",
       "      <td>\\N</td>\n",
       "      <td>1</td>\n",
       "      <td>Documentary,Short</td>\n",
       "    </tr>\n",
       "    <tr>\n",
       "      <th>1</th>\n",
       "      <td>tt0000002</td>\n",
       "      <td>short</td>\n",
       "      <td>Le clown et ses chiens</td>\n",
       "      <td>Le clown et ses chiens</td>\n",
       "      <td>0</td>\n",
       "      <td>1892</td>\n",
       "      <td>\\N</td>\n",
       "      <td>5</td>\n",
       "      <td>Animation,Short</td>\n",
       "    </tr>\n",
       "    <tr>\n",
       "      <th>2</th>\n",
       "      <td>tt0000003</td>\n",
       "      <td>short</td>\n",
       "      <td>Poor Pierrot</td>\n",
       "      <td>Pauvre Pierrot</td>\n",
       "      <td>0</td>\n",
       "      <td>1892</td>\n",
       "      <td>\\N</td>\n",
       "      <td>5</td>\n",
       "      <td>Animation,Comedy,Romance</td>\n",
       "    </tr>\n",
       "    <tr>\n",
       "      <th>3</th>\n",
       "      <td>tt0000004</td>\n",
       "      <td>short</td>\n",
       "      <td>Un bon bock</td>\n",
       "      <td>Un bon bock</td>\n",
       "      <td>0</td>\n",
       "      <td>1892</td>\n",
       "      <td>\\N</td>\n",
       "      <td>12</td>\n",
       "      <td>Animation,Short</td>\n",
       "    </tr>\n",
       "    <tr>\n",
       "      <th>4</th>\n",
       "      <td>tt0000005</td>\n",
       "      <td>short</td>\n",
       "      <td>Blacksmith Scene</td>\n",
       "      <td>Blacksmith Scene</td>\n",
       "      <td>0</td>\n",
       "      <td>1893</td>\n",
       "      <td>\\N</td>\n",
       "      <td>1</td>\n",
       "      <td>Short</td>\n",
       "    </tr>\n",
       "    <tr>\n",
       "      <th>...</th>\n",
       "      <td>...</td>\n",
       "      <td>...</td>\n",
       "      <td>...</td>\n",
       "      <td>...</td>\n",
       "      <td>...</td>\n",
       "      <td>...</td>\n",
       "      <td>...</td>\n",
       "      <td>...</td>\n",
       "      <td>...</td>\n",
       "    </tr>\n",
       "    <tr>\n",
       "      <th>11526090</th>\n",
       "      <td>tt9916848</td>\n",
       "      <td>tvEpisode</td>\n",
       "      <td>Episode #3.17</td>\n",
       "      <td>Episode #3.17</td>\n",
       "      <td>0</td>\n",
       "      <td>2009</td>\n",
       "      <td>\\N</td>\n",
       "      <td>\\N</td>\n",
       "      <td>Drama</td>\n",
       "    </tr>\n",
       "    <tr>\n",
       "      <th>11526091</th>\n",
       "      <td>tt9916850</td>\n",
       "      <td>tvEpisode</td>\n",
       "      <td>Episode #3.19</td>\n",
       "      <td>Episode #3.19</td>\n",
       "      <td>0</td>\n",
       "      <td>2010</td>\n",
       "      <td>\\N</td>\n",
       "      <td>\\N</td>\n",
       "      <td>Drama</td>\n",
       "    </tr>\n",
       "    <tr>\n",
       "      <th>11526092</th>\n",
       "      <td>tt9916852</td>\n",
       "      <td>tvEpisode</td>\n",
       "      <td>Episode #3.20</td>\n",
       "      <td>Episode #3.20</td>\n",
       "      <td>0</td>\n",
       "      <td>2010</td>\n",
       "      <td>\\N</td>\n",
       "      <td>\\N</td>\n",
       "      <td>Drama</td>\n",
       "    </tr>\n",
       "    <tr>\n",
       "      <th>11526093</th>\n",
       "      <td>tt9916856</td>\n",
       "      <td>short</td>\n",
       "      <td>The Wind</td>\n",
       "      <td>The Wind</td>\n",
       "      <td>0</td>\n",
       "      <td>2015</td>\n",
       "      <td>\\N</td>\n",
       "      <td>27</td>\n",
       "      <td>Short</td>\n",
       "    </tr>\n",
       "    <tr>\n",
       "      <th>11526094</th>\n",
       "      <td>tt9916880</td>\n",
       "      <td>tvEpisode</td>\n",
       "      <td>Horrid Henry Knows It All</td>\n",
       "      <td>Horrid Henry Knows It All</td>\n",
       "      <td>0</td>\n",
       "      <td>2014</td>\n",
       "      <td>\\N</td>\n",
       "      <td>10</td>\n",
       "      <td>Adventure,Animation,Comedy</td>\n",
       "    </tr>\n",
       "  </tbody>\n",
       "</table>\n",
       "<p>11526095 rows × 9 columns</p>\n",
       "</div>"
      ],
      "text/plain": [
       "             tconst  titleType               primaryTitle  \\\n",
       "0         tt0000001      short                 Carmencita   \n",
       "1         tt0000002      short     Le clown et ses chiens   \n",
       "2         tt0000003      short               Poor Pierrot   \n",
       "3         tt0000004      short                Un bon bock   \n",
       "4         tt0000005      short           Blacksmith Scene   \n",
       "...             ...        ...                        ...   \n",
       "11526090  tt9916848  tvEpisode              Episode #3.17   \n",
       "11526091  tt9916850  tvEpisode              Episode #3.19   \n",
       "11526092  tt9916852  tvEpisode              Episode #3.20   \n",
       "11526093  tt9916856      short                   The Wind   \n",
       "11526094  tt9916880  tvEpisode  Horrid Henry Knows It All   \n",
       "\n",
       "                      originalTitle isAdult startYear endYear runtimeMinutes  \\\n",
       "0                        Carmencita       0      1894      \\N              1   \n",
       "1            Le clown et ses chiens       0      1892      \\N              5   \n",
       "2                    Pauvre Pierrot       0      1892      \\N              5   \n",
       "3                       Un bon bock       0      1892      \\N             12   \n",
       "4                  Blacksmith Scene       0      1893      \\N              1   \n",
       "...                             ...     ...       ...     ...            ...   \n",
       "11526090              Episode #3.17       0      2009      \\N             \\N   \n",
       "11526091              Episode #3.19       0      2010      \\N             \\N   \n",
       "11526092              Episode #3.20       0      2010      \\N             \\N   \n",
       "11526093                   The Wind       0      2015      \\N             27   \n",
       "11526094  Horrid Henry Knows It All       0      2014      \\N             10   \n",
       "\n",
       "                              genres  \n",
       "0                  Documentary,Short  \n",
       "1                    Animation,Short  \n",
       "2           Animation,Comedy,Romance  \n",
       "3                    Animation,Short  \n",
       "4                              Short  \n",
       "...                              ...  \n",
       "11526090                       Drama  \n",
       "11526091                       Drama  \n",
       "11526092                       Drama  \n",
       "11526093                       Short  \n",
       "11526094  Adventure,Animation,Comedy  \n",
       "\n",
       "[11526095 rows x 9 columns]"
      ]
     },
     "execution_count": 3,
     "metadata": {},
     "output_type": "execute_result"
    }
   ],
   "source": [
    "title_basics = pd.read_csv(os.path.join(dataset_path,'title.basics.tsv'),sep=\"\\t\")\n",
    "title_basics"
   ]
  },
  {
   "cell_type": "code",
   "execution_count": 4,
   "metadata": {},
   "outputs": [
    {
     "data": {
      "text/plain": [
       "{'movie',\n",
       " 'short',\n",
       " 'tvEpisode',\n",
       " 'tvMiniSeries',\n",
       " 'tvMovie',\n",
       " 'tvPilot',\n",
       " 'tvSeries',\n",
       " 'tvShort',\n",
       " 'tvSpecial',\n",
       " 'video',\n",
       " 'videoGame'}"
      ]
     },
     "execution_count": 4,
     "metadata": {},
     "output_type": "execute_result"
    }
   ],
   "source": [
    "set(title_basics['titleType'])"
   ]
  },
  {
   "cell_type": "code",
   "execution_count": null,
   "metadata": {},
   "outputs": [
    {
     "data": {
      "application/vnd.microsoft.datawrangler.viewer.v0+json": {
       "columns": [
        {
         "name": "index",
         "rawType": "int64",
         "type": "integer"
        },
        {
         "name": "tconst",
         "rawType": "object",
         "type": "string"
        },
        {
         "name": "averageRating",
         "rawType": "float64",
         "type": "float"
        },
        {
         "name": "numVotes",
         "rawType": "int64",
         "type": "integer"
        }
       ],
       "conversionMethod": "pd.DataFrame",
       "ref": "63b56a5c-5323-4a92-8535-603628021b58",
       "rows": [
        [
         "0",
         "tt0000001",
         "5.7",
         "2142"
        ],
        [
         "1",
         "tt0000002",
         "5.5",
         "290"
        ],
        [
         "2",
         "tt0000003",
         "6.4",
         "2179"
        ],
        [
         "3",
         "tt0000004",
         "5.3",
         "186"
        ],
        [
         "4",
         "tt0000005",
         "6.2",
         "2912"
        ],
        [
         "5",
         "tt0000006",
         "5.0",
         "209"
        ],
        [
         "6",
         "tt0000007",
         "5.3",
         "905"
        ],
        [
         "7",
         "tt0000008",
         "5.4",
         "2288"
        ],
        [
         "8",
         "tt0000009",
         "5.4",
         "223"
        ],
        [
         "9",
         "tt0000010",
         "6.8",
         "7899"
        ],
        [
         "10",
         "tt0000011",
         "5.2",
         "416"
        ],
        [
         "11",
         "tt0000012",
         "7.4",
         "13417"
        ],
        [
         "12",
         "tt0000013",
         "5.7",
         "2059"
        ],
        [
         "13",
         "tt0000014",
         "7.1",
         "6124"
        ],
        [
         "14",
         "tt0000015",
         "6.1",
         "1267"
        ],
        [
         "15",
         "tt0000016",
         "5.9",
         "1652"
        ],
        [
         "16",
         "tt0000017",
         "4.6",
         "378"
        ],
        [
         "17",
         "tt0000018",
         "5.2",
         "660"
        ],
        [
         "18",
         "tt0000019",
         "5.2",
         "34"
        ],
        [
         "19",
         "tt0000020",
         "4.7",
         "409"
        ],
        [
         "20",
         "tt0000022",
         "5.1",
         "1205"
        ],
        [
         "21",
         "tt0000023",
         "5.6",
         "1579"
        ],
        [
         "22",
         "tt0000024",
         "3.7",
         "157"
        ],
        [
         "23",
         "tt0000025",
         "4.2",
         "50"
        ],
        [
         "24",
         "tt0000026",
         "5.6",
         "1672"
        ],
        [
         "25",
         "tt0000027",
         "5.6",
         "1266"
        ],
        [
         "26",
         "tt0000028",
         "5.1",
         "1192"
        ],
        [
         "27",
         "tt0000029",
         "5.9",
         "3660"
        ],
        [
         "28",
         "tt0000030",
         "5.2",
         "959"
        ],
        [
         "29",
         "tt0000031",
         "5.5",
         "1092"
        ],
        [
         "30",
         "tt0000032",
         "4.9",
         "459"
        ],
        [
         "31",
         "tt0000033",
         "5.5",
         "1130"
        ],
        [
         "32",
         "tt0000034",
         "4.8",
         "252"
        ],
        [
         "33",
         "tt0000035",
         "5.5",
         "87"
        ],
        [
         "34",
         "tt0000036",
         "4.4",
         "652"
        ],
        [
         "35",
         "tt0000037",
         "4.5",
         "79"
        ],
        [
         "36",
         "tt0000038",
         "4.1",
         "230"
        ],
        [
         "37",
         "tt0000039",
         "3.7",
         "35"
        ],
        [
         "38",
         "tt0000040",
         "4.2",
         "80"
        ],
        [
         "39",
         "tt0000041",
         "6.7",
         "2103"
        ],
        [
         "40",
         "tt0000042",
         "4.2",
         "41"
        ],
        [
         "41",
         "tt0000043",
         "3.5",
         "35"
        ],
        [
         "42",
         "tt0000044",
         "4.0",
         "56"
        ],
        [
         "43",
         "tt0000045",
         "4.0",
         "36"
        ],
        [
         "44",
         "tt0000046",
         "4.1",
         "41"
        ],
        [
         "45",
         "tt0000047",
         "3.7",
         "40"
        ],
        [
         "46",
         "tt0000048",
         "4.7",
         "234"
        ],
        [
         "47",
         "tt0000049",
         "4.8",
         "56"
        ],
        [
         "48",
         "tt0000050",
         "4.1",
         "37"
        ],
        [
         "49",
         "tt0000051",
         "3.6",
         "38"
        ]
       ],
       "shape": {
        "columns": 3,
        "rows": 1546485
       }
      },
      "text/html": [
       "<div>\n",
       "<style scoped>\n",
       "    .dataframe tbody tr th:only-of-type {\n",
       "        vertical-align: middle;\n",
       "    }\n",
       "\n",
       "    .dataframe tbody tr th {\n",
       "        vertical-align: top;\n",
       "    }\n",
       "\n",
       "    .dataframe thead th {\n",
       "        text-align: right;\n",
       "    }\n",
       "</style>\n",
       "<table border=\"1\" class=\"dataframe\">\n",
       "  <thead>\n",
       "    <tr style=\"text-align: right;\">\n",
       "      <th></th>\n",
       "      <th>tconst</th>\n",
       "      <th>averageRating</th>\n",
       "      <th>numVotes</th>\n",
       "    </tr>\n",
       "  </thead>\n",
       "  <tbody>\n",
       "    <tr>\n",
       "      <th>0</th>\n",
       "      <td>tt0000001</td>\n",
       "      <td>5.7</td>\n",
       "      <td>2142</td>\n",
       "    </tr>\n",
       "    <tr>\n",
       "      <th>1</th>\n",
       "      <td>tt0000002</td>\n",
       "      <td>5.5</td>\n",
       "      <td>290</td>\n",
       "    </tr>\n",
       "    <tr>\n",
       "      <th>2</th>\n",
       "      <td>tt0000003</td>\n",
       "      <td>6.4</td>\n",
       "      <td>2179</td>\n",
       "    </tr>\n",
       "    <tr>\n",
       "      <th>3</th>\n",
       "      <td>tt0000004</td>\n",
       "      <td>5.3</td>\n",
       "      <td>186</td>\n",
       "    </tr>\n",
       "    <tr>\n",
       "      <th>4</th>\n",
       "      <td>tt0000005</td>\n",
       "      <td>6.2</td>\n",
       "      <td>2912</td>\n",
       "    </tr>\n",
       "    <tr>\n",
       "      <th>...</th>\n",
       "      <td>...</td>\n",
       "      <td>...</td>\n",
       "      <td>...</td>\n",
       "    </tr>\n",
       "    <tr>\n",
       "      <th>1546480</th>\n",
       "      <td>tt9916730</td>\n",
       "      <td>7.0</td>\n",
       "      <td>12</td>\n",
       "    </tr>\n",
       "    <tr>\n",
       "      <th>1546481</th>\n",
       "      <td>tt9916766</td>\n",
       "      <td>7.2</td>\n",
       "      <td>24</td>\n",
       "    </tr>\n",
       "    <tr>\n",
       "      <th>1546482</th>\n",
       "      <td>tt9916778</td>\n",
       "      <td>7.2</td>\n",
       "      <td>37</td>\n",
       "    </tr>\n",
       "    <tr>\n",
       "      <th>1546483</th>\n",
       "      <td>tt9916840</td>\n",
       "      <td>6.8</td>\n",
       "      <td>12</td>\n",
       "    </tr>\n",
       "    <tr>\n",
       "      <th>1546484</th>\n",
       "      <td>tt9916880</td>\n",
       "      <td>7.7</td>\n",
       "      <td>10</td>\n",
       "    </tr>\n",
       "  </tbody>\n",
       "</table>\n",
       "<p>1546485 rows × 3 columns</p>\n",
       "</div>"
      ],
      "text/plain": [
       "            tconst  averageRating  numVotes\n",
       "0        tt0000001            5.7      2142\n",
       "1        tt0000002            5.5       290\n",
       "2        tt0000003            6.4      2179\n",
       "3        tt0000004            5.3       186\n",
       "4        tt0000005            6.2      2912\n",
       "...            ...            ...       ...\n",
       "1546480  tt9916730            7.0        12\n",
       "1546481  tt9916766            7.2        24\n",
       "1546482  tt9916778            7.2        37\n",
       "1546483  tt9916840            6.8        12\n",
       "1546484  tt9916880            7.7        10\n",
       "\n",
       "[1546485 rows x 3 columns]"
      ]
     },
     "execution_count": 6,
     "metadata": {},
     "output_type": "execute_result"
    }
   ],
   "source": [
    "title_ratings = pd.read_csv(os.path.join(dataset_path,'title.ratings.tsv'),sep=\"\\t\")\n",
    "title_ratings"
   ]
  },
  {
   "cell_type": "code",
   "execution_count": 12,
   "metadata": {},
   "outputs": [
    {
     "data": {
      "text/plain": [
       "['tconst', 'averageRating', 'numVotes']"
      ]
     },
     "execution_count": 12,
     "metadata": {},
     "output_type": "execute_result"
    }
   ],
   "source": [
    "title_ratings.columns.to_list()"
   ]
  },
  {
   "cell_type": "code",
   "execution_count": 13,
   "metadata": {},
   "outputs": [
    {
     "data": {
      "text/plain": [
       "'tconst`,`averageRating`,`numVotes'"
      ]
     },
     "execution_count": 13,
     "metadata": {},
     "output_type": "execute_result"
    }
   ],
   "source": [
    "cols = \"`,`\".join([str(i) for i in title_ratings.columns.tolist()])\n",
    "cols"
   ]
  },
  {
   "cell_type": "code",
   "execution_count": null,
   "metadata": {},
   "outputs": [],
   "source": [
    "SQL_push('public.rating',title_ratings)"
   ]
  },
  {
   "cell_type": "code",
   "execution_count": 8,
   "metadata": {},
   "outputs": [
    {
     "name": "stdout",
     "output_type": "stream",
     "text": [
      "<class 'pandas.core.frame.DataFrame'>\n",
      "RangeIndex: 1546485 entries, 0 to 1546484\n",
      "Data columns (total 3 columns):\n",
      " #   Column         Non-Null Count    Dtype  \n",
      "---  ------         --------------    -----  \n",
      " 0   tconst         1546485 non-null  object \n",
      " 1   averageRating  1546485 non-null  float64\n",
      " 2   numVotes       1546485 non-null  int64  \n",
      "dtypes: float64(1), int64(1), object(1)\n",
      "memory usage: 35.4+ MB\n"
     ]
    }
   ],
   "source": [
    "title_ratings.info()"
   ]
  },
  {
   "cell_type": "code",
   "execution_count": 9,
   "metadata": {},
   "outputs": [
    {
     "data": {
      "text/plain": [
       "1546485"
      ]
     },
     "execution_count": 9,
     "metadata": {},
     "output_type": "execute_result"
    }
   ],
   "source": [
    "len(set(title_ratings['tconst']))"
   ]
  },
  {
   "cell_type": "code",
   "execution_count": 7,
   "metadata": {},
   "outputs": [
    {
     "data": {
      "application/vnd.microsoft.datawrangler.viewer.v0+json": {
       "columns": [
        {
         "name": "index",
         "rawType": "int64",
         "type": "integer"
        },
        {
         "name": "tconst",
         "rawType": "object",
         "type": "string"
        },
        {
         "name": "parentTconst",
         "rawType": "object",
         "type": "string"
        },
        {
         "name": "seasonNumber",
         "rawType": "object",
         "type": "string"
        },
        {
         "name": "episodeNumber",
         "rawType": "object",
         "type": "string"
        }
       ],
       "conversionMethod": "pd.DataFrame",
       "ref": "67a9cd22-606d-4af4-991c-30d072f5a7f5",
       "rows": [
        [
         "0",
         "tt0031458",
         "tt32857063",
         "\\N",
         "\\N"
        ],
        [
         "1",
         "tt0041951",
         "tt0041038",
         "1",
         "9"
        ],
        [
         "2",
         "tt0042816",
         "tt0989125",
         "1",
         "17"
        ],
        [
         "3",
         "tt0042889",
         "tt0989125",
         "\\N",
         "\\N"
        ],
        [
         "4",
         "tt0043426",
         "tt0040051",
         "3",
         "42"
        ],
        [
         "5",
         "tt0043631",
         "tt0989125",
         "2",
         "16"
        ],
        [
         "6",
         "tt0043693",
         "tt0989125",
         "2",
         "8"
        ],
        [
         "7",
         "tt0043710",
         "tt0989125",
         "3",
         "3"
        ],
        [
         "8",
         "tt0044093",
         "tt0959862",
         "1",
         "6"
        ],
        [
         "9",
         "tt0044668",
         "tt0044243",
         "2",
         "16"
        ],
        [
         "10",
         "tt0044901",
         "tt0989125",
         "3",
         "46"
        ],
        [
         "11",
         "tt0045519",
         "tt0989125",
         "4",
         "11"
        ],
        [
         "12",
         "tt0045960",
         "tt0044284",
         "2",
         "3"
        ],
        [
         "13",
         "tt0046135",
         "tt0989125",
         "4",
         "5"
        ],
        [
         "14",
         "tt0046150",
         "tt0341798",
         "\\N",
         "\\N"
        ],
        [
         "15",
         "tt0046855",
         "tt0046643",
         "1",
         "4"
        ],
        [
         "16",
         "tt0046864",
         "tt0989125",
         "5",
         "20"
        ],
        [
         "17",
         "tt0047810",
         "tt0914702",
         "3",
         "36"
        ],
        [
         "18",
         "tt0047852",
         "tt0047745",
         "1",
         "15"
        ],
        [
         "19",
         "tt0047858",
         "tt0046637",
         "2",
         "9"
        ],
        [
         "20",
         "tt0047961",
         "tt0989125",
         "6",
         "5"
        ],
        [
         "21",
         "tt0048067",
         "tt0046587",
         "2",
         "20"
        ],
        [
         "22",
         "tt0048302",
         "tt0047768",
         "1",
         "6"
        ],
        [
         "23",
         "tt0048371",
         "tt0989125",
         "6",
         "11"
        ],
        [
         "24",
         "tt0048378",
         "tt0047702",
         "1",
         "6"
        ],
        [
         "25",
         "tt0048462",
         "tt0047702",
         "1",
         "3"
        ],
        [
         "26",
         "tt0048562",
         "tt0047768",
         "1",
         "10"
        ],
        [
         "27",
         "tt0048883",
         "tt0989125",
         "6",
         "42"
        ],
        [
         "28",
         "tt0049025",
         "tt0047720",
         "1",
         "4"
        ],
        [
         "29",
         "tt0049473",
         "tt0046593",
         "1",
         "20"
        ],
        [
         "30",
         "tt0049572",
         "tt0914702",
         "1",
         "30"
        ],
        [
         "31",
         "tt0049585",
         "tt0047720",
         "1",
         "5"
        ],
        [
         "32",
         "tt0049669",
         "tt0048893",
         "1",
         "2"
        ],
        [
         "33",
         "tt0050031",
         "tt0050013",
         "1",
         "4"
        ],
        [
         "34",
         "tt0050259",
         "tt0048893",
         "1",
         "20"
        ],
        [
         "35",
         "tt0050318",
         "tt0046593",
         "4",
         "1"
        ],
        [
         "36",
         "tt0050320",
         "tt0914702",
         "3",
         "39"
        ],
        [
         "37",
         "tt0050641",
         "tt4280482",
         "1",
         "1"
        ],
        [
         "38",
         "tt0050678",
         "tt0161126",
         "2",
         "11"
        ],
        [
         "39",
         "tt0050695",
         "tt0046637",
         "3",
         "6"
        ],
        [
         "40",
         "tt0050988",
         "tt0048893",
         "1",
         "16"
        ],
        [
         "41",
         "tt0051344",
         "tt0050013",
         "1",
         "6"
        ],
        [
         "42",
         "tt0051523",
         "tt0048893",
         "3",
         "2"
        ],
        [
         "43",
         "tt0051625",
         "tt0048893",
         "2",
         "15"
        ],
        [
         "44",
         "tt0051680",
         "tt0161126",
         "3",
         "9"
        ],
        [
         "45",
         "tt0051763",
         "tt0453991",
         "1",
         "8"
        ],
        [
         "46",
         "tt0051929",
         "tt0989125",
         "9",
         "45"
        ],
        [
         "47",
         "tt0052128",
         "tt0441950",
         "4",
         "2"
        ],
        [
         "48",
         "tt0052236",
         "tt0793361",
         "1",
         "2"
        ],
        [
         "49",
         "tt0052237",
         "tt0793361",
         "1",
         "5"
        ]
       ],
       "shape": {
        "columns": 4,
        "rows": 8867249
       }
      },
      "text/html": [
       "<div>\n",
       "<style scoped>\n",
       "    .dataframe tbody tr th:only-of-type {\n",
       "        vertical-align: middle;\n",
       "    }\n",
       "\n",
       "    .dataframe tbody tr th {\n",
       "        vertical-align: top;\n",
       "    }\n",
       "\n",
       "    .dataframe thead th {\n",
       "        text-align: right;\n",
       "    }\n",
       "</style>\n",
       "<table border=\"1\" class=\"dataframe\">\n",
       "  <thead>\n",
       "    <tr style=\"text-align: right;\">\n",
       "      <th></th>\n",
       "      <th>tconst</th>\n",
       "      <th>parentTconst</th>\n",
       "      <th>seasonNumber</th>\n",
       "      <th>episodeNumber</th>\n",
       "    </tr>\n",
       "  </thead>\n",
       "  <tbody>\n",
       "    <tr>\n",
       "      <th>0</th>\n",
       "      <td>tt0031458</td>\n",
       "      <td>tt32857063</td>\n",
       "      <td>\\N</td>\n",
       "      <td>\\N</td>\n",
       "    </tr>\n",
       "    <tr>\n",
       "      <th>1</th>\n",
       "      <td>tt0041951</td>\n",
       "      <td>tt0041038</td>\n",
       "      <td>1</td>\n",
       "      <td>9</td>\n",
       "    </tr>\n",
       "    <tr>\n",
       "      <th>2</th>\n",
       "      <td>tt0042816</td>\n",
       "      <td>tt0989125</td>\n",
       "      <td>1</td>\n",
       "      <td>17</td>\n",
       "    </tr>\n",
       "    <tr>\n",
       "      <th>3</th>\n",
       "      <td>tt0042889</td>\n",
       "      <td>tt0989125</td>\n",
       "      <td>\\N</td>\n",
       "      <td>\\N</td>\n",
       "    </tr>\n",
       "    <tr>\n",
       "      <th>4</th>\n",
       "      <td>tt0043426</td>\n",
       "      <td>tt0040051</td>\n",
       "      <td>3</td>\n",
       "      <td>42</td>\n",
       "    </tr>\n",
       "    <tr>\n",
       "      <th>...</th>\n",
       "      <td>...</td>\n",
       "      <td>...</td>\n",
       "      <td>...</td>\n",
       "      <td>...</td>\n",
       "    </tr>\n",
       "    <tr>\n",
       "      <th>8867244</th>\n",
       "      <td>tt9916846</td>\n",
       "      <td>tt1289683</td>\n",
       "      <td>3</td>\n",
       "      <td>18</td>\n",
       "    </tr>\n",
       "    <tr>\n",
       "      <th>8867245</th>\n",
       "      <td>tt9916848</td>\n",
       "      <td>tt1289683</td>\n",
       "      <td>3</td>\n",
       "      <td>17</td>\n",
       "    </tr>\n",
       "    <tr>\n",
       "      <th>8867246</th>\n",
       "      <td>tt9916850</td>\n",
       "      <td>tt1289683</td>\n",
       "      <td>3</td>\n",
       "      <td>19</td>\n",
       "    </tr>\n",
       "    <tr>\n",
       "      <th>8867247</th>\n",
       "      <td>tt9916852</td>\n",
       "      <td>tt1289683</td>\n",
       "      <td>3</td>\n",
       "      <td>20</td>\n",
       "    </tr>\n",
       "    <tr>\n",
       "      <th>8867248</th>\n",
       "      <td>tt9916880</td>\n",
       "      <td>tt0985991</td>\n",
       "      <td>4</td>\n",
       "      <td>2</td>\n",
       "    </tr>\n",
       "  </tbody>\n",
       "</table>\n",
       "<p>8867249 rows × 4 columns</p>\n",
       "</div>"
      ],
      "text/plain": [
       "            tconst parentTconst seasonNumber episodeNumber\n",
       "0        tt0031458   tt32857063           \\N            \\N\n",
       "1        tt0041951    tt0041038            1             9\n",
       "2        tt0042816    tt0989125            1            17\n",
       "3        tt0042889    tt0989125           \\N            \\N\n",
       "4        tt0043426    tt0040051            3            42\n",
       "...            ...          ...          ...           ...\n",
       "8867244  tt9916846    tt1289683            3            18\n",
       "8867245  tt9916848    tt1289683            3            17\n",
       "8867246  tt9916850    tt1289683            3            19\n",
       "8867247  tt9916852    tt1289683            3            20\n",
       "8867248  tt9916880    tt0985991            4             2\n",
       "\n",
       "[8867249 rows x 4 columns]"
      ]
     },
     "execution_count": 7,
     "metadata": {},
     "output_type": "execute_result"
    }
   ],
   "source": [
    "title_episode = pd.read_csv(os.path.join(dataset_path,'title.episode.tsv'),sep=\"\\t\")\n",
    "title_episode"
   ]
  },
  {
   "cell_type": "code",
   "execution_count": null,
   "metadata": {},
   "outputs": [],
   "source": [
    "title_akas = pd.read_csv(os.path.join(dataset_path,'title.akas.tsv'),sep=\"\\t\")\n",
    "title_akas"
   ]
  },
  {
   "cell_type": "code",
   "execution_count": 2,
   "metadata": {},
   "outputs": [
    {
     "data": {
      "application/vnd.microsoft.datawrangler.viewer.v0+json": {
       "columns": [
        {
         "name": "index",
         "rawType": "int64",
         "type": "integer"
        },
        {
         "name": "tconst",
         "rawType": "object",
         "type": "string"
        },
        {
         "name": "ordering",
         "rawType": "int64",
         "type": "integer"
        },
        {
         "name": "nconst",
         "rawType": "object",
         "type": "string"
        },
        {
         "name": "category",
         "rawType": "object",
         "type": "string"
        },
        {
         "name": "job",
         "rawType": "object",
         "type": "string"
        },
        {
         "name": "characters",
         "rawType": "object",
         "type": "string"
        }
       ],
       "conversionMethod": "pd.DataFrame",
       "ref": "8273bea4-c1da-42dd-a4eb-776aa3feba60",
       "rows": [
        [
         "0",
         "tt0000001",
         "1",
         "nm1588970",
         "self",
         "\\N",
         "[\"Self\"]"
        ],
        [
         "1",
         "tt0000001",
         "2",
         "nm0005690",
         "director",
         "\\N",
         "\\N"
        ],
        [
         "2",
         "tt0000001",
         "3",
         "nm0005690",
         "producer",
         "producer",
         "\\N"
        ],
        [
         "3",
         "tt0000001",
         "4",
         "nm0374658",
         "cinematographer",
         "director of photography",
         "\\N"
        ],
        [
         "4",
         "tt0000002",
         "1",
         "nm0721526",
         "director",
         "\\N",
         "\\N"
        ],
        [
         "5",
         "tt0000002",
         "2",
         "nm1335271",
         "composer",
         "\\N",
         "\\N"
        ],
        [
         "6",
         "tt0000003",
         "1",
         "nm0721526",
         "director",
         "\\N",
         "\\N"
        ],
        [
         "7",
         "tt0000003",
         "2",
         "nm0721526",
         "writer",
         "\\N",
         "\\N"
        ],
        [
         "8",
         "tt0000003",
         "3",
         "nm1770680",
         "producer",
         "producer",
         "\\N"
        ],
        [
         "9",
         "tt0000003",
         "4",
         "nm0721526",
         "producer",
         "producer",
         "\\N"
        ],
        [
         "10",
         "tt0000003",
         "5",
         "nm1335271",
         "composer",
         "\\N",
         "\\N"
        ],
        [
         "11",
         "tt0000003",
         "6",
         "nm5442200",
         "editor",
         "editor",
         "\\N"
        ],
        [
         "12",
         "tt0000004",
         "1",
         "nm0721526",
         "director",
         "\\N",
         "\\N"
        ],
        [
         "13",
         "tt0000004",
         "2",
         "nm1335271",
         "composer",
         "\\N",
         "\\N"
        ],
        [
         "14",
         "tt0000005",
         "1",
         "nm0443482",
         "actor",
         "\\N",
         "[\"Blacksmith\"]"
        ],
        [
         "15",
         "tt0000005",
         "2",
         "nm0653042",
         "actor",
         "\\N",
         "[\"Assistant\"]"
        ],
        [
         "16",
         "tt0000005",
         "3",
         "nm0249379",
         "producer",
         "producer",
         "\\N"
        ],
        [
         "17",
         "tt0000007",
         "1",
         "nm0179163",
         "actor",
         "\\N",
         "\\N"
        ],
        [
         "18",
         "tt0000007",
         "2",
         "nm0183947",
         "actor",
         "\\N",
         "\\N"
        ],
        [
         "19",
         "tt0000007",
         "3",
         "nm0005690",
         "director",
         "\\N",
         "\\N"
        ],
        [
         "20",
         "tt0000007",
         "4",
         "nm0374658",
         "director",
         "\\N",
         "\\N"
        ],
        [
         "21",
         "tt0000007",
         "5",
         "nm0005690",
         "producer",
         "producer",
         "\\N"
        ],
        [
         "22",
         "tt0000007",
         "6",
         "nm0249379",
         "producer",
         "producer",
         "\\N"
        ],
        [
         "23",
         "tt0000007",
         "7",
         "nm0374658",
         "cinematographer",
         "\\N",
         "\\N"
        ],
        [
         "24",
         "tt0000008",
         "1",
         "nm0653028",
         "actor",
         "\\N",
         "[\"Sneezing Man\"]"
        ],
        [
         "25",
         "tt0000008",
         "2",
         "nm0005690",
         "director",
         "\\N",
         "\\N"
        ],
        [
         "26",
         "tt0000008",
         "3",
         "nm0005690",
         "producer",
         "producer",
         "\\N"
        ],
        [
         "27",
         "tt0000008",
         "4",
         "nm0374658",
         "cinematographer",
         "\\N",
         "\\N"
        ],
        [
         "28",
         "tt0000009",
         "1",
         "nm0063086",
         "actress",
         "\\N",
         "[\"Miss Geraldine Holbrook (Miss Jerry)\"]"
        ],
        [
         "29",
         "tt0000009",
         "2",
         "nm0183823",
         "actor",
         "\\N",
         "[\"Mr. Hamilton\"]"
        ],
        [
         "30",
         "tt0000009",
         "3",
         "nm1309758",
         "actor",
         "\\N",
         "[\"Chauncey Depew - the Director of the New York Central Railroad\"]"
        ],
        [
         "31",
         "tt0000009",
         "4",
         "nm0085156",
         "director",
         "\\N",
         "\\N"
        ],
        [
         "32",
         "tt0000009",
         "5",
         "nm0085156",
         "writer",
         "\\N",
         "\\N"
        ],
        [
         "33",
         "tt0000009",
         "6",
         "nm0085156",
         "producer",
         "producer",
         "\\N"
        ],
        [
         "34",
         "tt0000009",
         "7",
         "nm0085156",
         "cinematographer",
         "\\N",
         "\\N"
        ],
        [
         "35",
         "tt0000010",
         "1",
         "nm0525910",
         "director",
         "\\N",
         "\\N"
        ],
        [
         "36",
         "tt0000010",
         "2",
         "nm0525910",
         "producer",
         "producer",
         "\\N"
        ],
        [
         "37",
         "tt0000010",
         "3",
         "nm0525910",
         "cinematographer",
         "\\N",
         "\\N"
        ],
        [
         "38",
         "tt0000011",
         "1",
         "nm3692297",
         "actor",
         "\\N",
         "[\"Acrobats\"]"
        ],
        [
         "39",
         "tt0000011",
         "2",
         "nm0804434",
         "director",
         "\\N",
         "\\N"
        ],
        [
         "40",
         "tt0000011",
         "3",
         "nm0804434",
         "producer",
         "producer",
         "\\N"
        ],
        [
         "41",
         "tt0000011",
         "4",
         "nm0804434",
         "cinematographer",
         "\\N",
         "\\N"
        ],
        [
         "42",
         "tt0000012",
         "1",
         "nm2880396",
         "self",
         "\\N",
         "[\"Self\"]"
        ],
        [
         "43",
         "tt0000012",
         "2",
         "nm9735580",
         "self",
         "\\N",
         "[\"Self\"]"
        ],
        [
         "44",
         "tt0000012",
         "3",
         "nm0525900",
         "self",
         "\\N",
         "[\"Self\"]"
        ],
        [
         "45",
         "tt0000012",
         "4",
         "nm9735581",
         "self",
         "\\N",
         "[\"Self\"]"
        ],
        [
         "46",
         "tt0000012",
         "5",
         "nm9735579",
         "self",
         "\\N",
         "[\"Self\"]"
        ],
        [
         "47",
         "tt0000012",
         "6",
         "nm9653419",
         "self",
         "\\N",
         "[\"Self\"]"
        ],
        [
         "48",
         "tt0000012",
         "7",
         "nm0525908",
         "director",
         "\\N",
         "\\N"
        ],
        [
         "49",
         "tt0000012",
         "8",
         "nm0525910",
         "director",
         "\\N",
         "\\N"
        ]
       ],
       "shape": {
        "columns": 6,
        "rows": 91510832
       }
      },
      "text/html": [
       "<div>\n",
       "<style scoped>\n",
       "    .dataframe tbody tr th:only-of-type {\n",
       "        vertical-align: middle;\n",
       "    }\n",
       "\n",
       "    .dataframe tbody tr th {\n",
       "        vertical-align: top;\n",
       "    }\n",
       "\n",
       "    .dataframe thead th {\n",
       "        text-align: right;\n",
       "    }\n",
       "</style>\n",
       "<table border=\"1\" class=\"dataframe\">\n",
       "  <thead>\n",
       "    <tr style=\"text-align: right;\">\n",
       "      <th></th>\n",
       "      <th>tconst</th>\n",
       "      <th>ordering</th>\n",
       "      <th>nconst</th>\n",
       "      <th>category</th>\n",
       "      <th>job</th>\n",
       "      <th>characters</th>\n",
       "    </tr>\n",
       "  </thead>\n",
       "  <tbody>\n",
       "    <tr>\n",
       "      <th>0</th>\n",
       "      <td>tt0000001</td>\n",
       "      <td>1</td>\n",
       "      <td>nm1588970</td>\n",
       "      <td>self</td>\n",
       "      <td>\\N</td>\n",
       "      <td>[\"Self\"]</td>\n",
       "    </tr>\n",
       "    <tr>\n",
       "      <th>1</th>\n",
       "      <td>tt0000001</td>\n",
       "      <td>2</td>\n",
       "      <td>nm0005690</td>\n",
       "      <td>director</td>\n",
       "      <td>\\N</td>\n",
       "      <td>\\N</td>\n",
       "    </tr>\n",
       "    <tr>\n",
       "      <th>2</th>\n",
       "      <td>tt0000001</td>\n",
       "      <td>3</td>\n",
       "      <td>nm0005690</td>\n",
       "      <td>producer</td>\n",
       "      <td>producer</td>\n",
       "      <td>\\N</td>\n",
       "    </tr>\n",
       "    <tr>\n",
       "      <th>3</th>\n",
       "      <td>tt0000001</td>\n",
       "      <td>4</td>\n",
       "      <td>nm0374658</td>\n",
       "      <td>cinematographer</td>\n",
       "      <td>director of photography</td>\n",
       "      <td>\\N</td>\n",
       "    </tr>\n",
       "    <tr>\n",
       "      <th>4</th>\n",
       "      <td>tt0000002</td>\n",
       "      <td>1</td>\n",
       "      <td>nm0721526</td>\n",
       "      <td>director</td>\n",
       "      <td>\\N</td>\n",
       "      <td>\\N</td>\n",
       "    </tr>\n",
       "    <tr>\n",
       "      <th>...</th>\n",
       "      <td>...</td>\n",
       "      <td>...</td>\n",
       "      <td>...</td>\n",
       "      <td>...</td>\n",
       "      <td>...</td>\n",
       "      <td>...</td>\n",
       "    </tr>\n",
       "    <tr>\n",
       "      <th>91510827</th>\n",
       "      <td>tt9916880</td>\n",
       "      <td>17</td>\n",
       "      <td>nm0996406</td>\n",
       "      <td>director</td>\n",
       "      <td>principal director</td>\n",
       "      <td>\\N</td>\n",
       "    </tr>\n",
       "    <tr>\n",
       "      <th>91510828</th>\n",
       "      <td>tt9916880</td>\n",
       "      <td>18</td>\n",
       "      <td>nm1482639</td>\n",
       "      <td>writer</td>\n",
       "      <td>\\N</td>\n",
       "      <td>\\N</td>\n",
       "    </tr>\n",
       "    <tr>\n",
       "      <th>91510829</th>\n",
       "      <td>tt9916880</td>\n",
       "      <td>19</td>\n",
       "      <td>nm2586970</td>\n",
       "      <td>writer</td>\n",
       "      <td>books</td>\n",
       "      <td>\\N</td>\n",
       "    </tr>\n",
       "    <tr>\n",
       "      <th>91510830</th>\n",
       "      <td>tt9916880</td>\n",
       "      <td>20</td>\n",
       "      <td>nm1594058</td>\n",
       "      <td>producer</td>\n",
       "      <td>producer</td>\n",
       "      <td>\\N</td>\n",
       "    </tr>\n",
       "    <tr>\n",
       "      <th>91510831</th>\n",
       "      <td>tt9916880</td>\n",
       "      <td>21</td>\n",
       "      <td>nm1482639</td>\n",
       "      <td>producer</td>\n",
       "      <td>producer</td>\n",
       "      <td>\\N</td>\n",
       "    </tr>\n",
       "  </tbody>\n",
       "</table>\n",
       "<p>91510832 rows × 6 columns</p>\n",
       "</div>"
      ],
      "text/plain": [
       "             tconst  ordering     nconst         category  \\\n",
       "0         tt0000001         1  nm1588970             self   \n",
       "1         tt0000001         2  nm0005690         director   \n",
       "2         tt0000001         3  nm0005690         producer   \n",
       "3         tt0000001         4  nm0374658  cinematographer   \n",
       "4         tt0000002         1  nm0721526         director   \n",
       "...             ...       ...        ...              ...   \n",
       "91510827  tt9916880        17  nm0996406         director   \n",
       "91510828  tt9916880        18  nm1482639           writer   \n",
       "91510829  tt9916880        19  nm2586970           writer   \n",
       "91510830  tt9916880        20  nm1594058         producer   \n",
       "91510831  tt9916880        21  nm1482639         producer   \n",
       "\n",
       "                              job characters  \n",
       "0                              \\N   [\"Self\"]  \n",
       "1                              \\N         \\N  \n",
       "2                        producer         \\N  \n",
       "3         director of photography         \\N  \n",
       "4                              \\N         \\N  \n",
       "...                           ...        ...  \n",
       "91510827       principal director         \\N  \n",
       "91510828                       \\N         \\N  \n",
       "91510829                    books         \\N  \n",
       "91510830                 producer         \\N  \n",
       "91510831                 producer         \\N  \n",
       "\n",
       "[91510832 rows x 6 columns]"
      ]
     },
     "execution_count": 2,
     "metadata": {},
     "output_type": "execute_result"
    }
   ],
   "source": [
    "title_principals = pd.read_csv(os.path.join(dataset_path,'title.principals.tsv'),sep=\"\\t\")\n",
    "title_principals"
   ]
  },
  {
   "cell_type": "code",
   "execution_count": null,
   "metadata": {},
   "outputs": [],
   "source": []
  }
 ],
 "metadata": {
  "kernelspec": {
   "display_name": "DK-local",
   "language": "python",
   "name": "python3"
  },
  "language_info": {
   "codemirror_mode": {
    "name": "ipython",
    "version": 3
   },
   "file_extension": ".py",
   "mimetype": "text/x-python",
   "name": "python",
   "nbconvert_exporter": "python",
   "pygments_lexer": "ipython3",
   "version": "3.10.0"
  }
 },
 "nbformat": 4,
 "nbformat_minor": 2
}
